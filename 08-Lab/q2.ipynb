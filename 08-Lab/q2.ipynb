{
 "cells": [
  {
   "cell_type": "code",
   "execution_count": 64,
   "id": "initial_id",
   "metadata": {
    "collapsed": true,
    "ExecuteTime": {
     "end_time": "2023-10-15T17:43:37.117465611Z",
     "start_time": "2023-10-15T17:43:37.053098436Z"
    }
   },
   "outputs": [],
   "source": [
    "import numpy as np\n",
    "import pandas as pd"
   ]
  },
  {
   "cell_type": "markdown",
   "source": [
    "# Principal Component Analysis (PCA)"
   ],
   "metadata": {
    "collapsed": false
   },
   "id": "6917accf246ed5e"
  },
  {
   "cell_type": "code",
   "execution_count": 65,
   "outputs": [],
   "source": [
    "class PCA:\n",
    "    def __init__(self, cumvar_threshold=0.95):\n",
    "        self.cumvar_threshold = cumvar_threshold\n",
    "        self.components = None\n",
    "        self.explained_variance = None\n",
    "        self.explained_variance_ratio = None\n",
    "        self.cumulative_variance_ratio = None\n",
    "        self.n_components = None\n",
    "        \n",
    "    def fit(self, X):\n",
    "        # covariance matrix\n",
    "        cov = covariance(X)\n",
    "        # eigenvalues and eigenvectors\n",
    "        eigenvalues, eigenvectors = np.linalg.eig(cov)\n",
    "        # sort eigenvalues and eigenvectors\n",
    "        idx = eigenvalues.argsort()[::-1]\n",
    "        eigenvalues = eigenvalues[idx]\n",
    "        eigenvectors = eigenvectors[:, idx]\n",
    "        # explained variance\n",
    "        self.explained_variance = eigenvalues\n",
    "        self.explained_variance_ratio = eigenvalues / eigenvalues.sum()\n",
    "        self.cumulative_variance_ratio = np.cumsum(self.explained_variance_ratio)\n",
    "        # number of components\n",
    "        self.n_components = np.argmax(self.cumulative_variance_ratio >= self.cumvar_threshold) + 1\n",
    "        # components\n",
    "        self.components = eigenvectors[:, :self.n_components]\n",
    "    \n",
    "    def transform(self, X):\n",
    "        return np.dot(X, self.components)"
   ],
   "metadata": {
    "collapsed": false,
    "ExecuteTime": {
     "end_time": "2023-10-15T17:43:37.338530240Z",
     "start_time": "2023-10-15T17:43:37.067181272Z"
    }
   },
   "id": "9d7437d57b4babe5"
  },
  {
   "cell_type": "markdown",
   "source": [
    "# K-Nearest Neighbors (KNN)"
   ],
   "metadata": {
    "collapsed": false
   },
   "id": "8a789b707d08d40a"
  },
  {
   "cell_type": "code",
   "execution_count": 80,
   "outputs": [],
   "source": [
    "class KNN:\n",
    "    def __init__(self, k=5):\n",
    "        self.k = k\n",
    "        self.X_train = None\n",
    "        self.y_train = None\n",
    "        self.distances = None\n",
    "    \n",
    "    def fit(self, X, y):\n",
    "        self.X_train = X\n",
    "        self.y_train = y\n",
    "    \n",
    "    def predict(self, X_test):\n",
    "        self.distances = self._euclidean_dist(self.X_train, X_test)\n",
    "        pred = []\n",
    "        for dist in self.distances:\n",
    "            k_nearest = dist.argsort()[:self.k]\n",
    "            k_nearest_labels = y_train.iloc[k_nearest]\n",
    "            pred.append(k_nearest_labels.value_counts().index[0])\n",
    "        return np.array(pred)\n",
    "    \n",
    "    def _euclidean_dist(self, X_train, X_test):\n",
    "        dist = np.zeros((len(X_test), len(X_train)))\n",
    "        for i in range(len(X_test)):\n",
    "            for j in range(len(X_train)):\n",
    "                dist[i, j] = np.sqrt(np.sum((X_test[i] - X_train[j])**2))\n",
    "        return dist"
   ],
   "metadata": {
    "collapsed": false,
    "ExecuteTime": {
     "end_time": "2023-10-15T17:49:44.235080651Z",
     "start_time": "2023-10-15T17:49:43.945244237Z"
    }
   },
   "id": "6ae9eec8f7e3536d"
  },
  {
   "cell_type": "code",
   "execution_count": 67,
   "outputs": [],
   "source": [
    "def covariance(X):\n",
    "    X = X - np.mean(X, axis=0)\n",
    "    return np.dot(X.T, X) / (len(X) - 1)"
   ],
   "metadata": {
    "collapsed": false,
    "ExecuteTime": {
     "end_time": "2023-10-15T17:43:37.340607393Z",
     "start_time": "2023-10-15T17:43:37.156867103Z"
    }
   },
   "id": "39f47aff14b740d9"
  },
  {
   "cell_type": "markdown",
   "source": [
    "# Split Train and Test Data"
   ],
   "metadata": {
    "collapsed": false
   },
   "id": "170bd9ab575f6a0a"
  },
  {
   "cell_type": "code",
   "execution_count": 68,
   "outputs": [],
   "source": [
    "def split_train_test(df, y_col):\n",
    "    train_data, test_data = pd.DataFrame(), pd.DataFrame()\n",
    "    for y in df[y_col].unique():\n",
    "        df_y = df[df[y_col] == y]\n",
    "        test_data = pd.concat([test_data, df_y[:2]], ignore_index=True)\n",
    "        train_data = pd.concat([train_data, df_y[2:]], ignore_index=True)\n",
    "    X_train, y_train = train_data.drop(y_col, axis=1), train_data[y_col]\n",
    "    X_test, y_test = test_data.drop(y_col, axis=1), test_data[y_col]\n",
    "    return X_train, y_train, X_test, y_test"
   ],
   "metadata": {
    "collapsed": false,
    "ExecuteTime": {
     "end_time": "2023-10-15T17:43:37.340709585Z",
     "start_time": "2023-10-15T17:43:37.157005432Z"
    }
   },
   "id": "7ec9fd22e13afff3"
  },
  {
   "cell_type": "markdown",
   "source": [
    "# Accuracy"
   ],
   "metadata": {
    "collapsed": false
   },
   "id": "95ff10ad93046e27"
  },
  {
   "cell_type": "code",
   "execution_count": 69,
   "outputs": [],
   "source": [
    "def accuracy(y_pred, y_test):\n",
    "    return np.sum(y_pred == y_test) / len(y_test)"
   ],
   "metadata": {
    "collapsed": false,
    "ExecuteTime": {
     "end_time": "2023-10-15T17:43:37.340805194Z",
     "start_time": "2023-10-15T17:43:37.157155443Z"
    }
   },
   "id": "1b52b955ea760a65"
  },
  {
   "cell_type": "markdown",
   "source": [
    "# Model"
   ],
   "metadata": {
    "collapsed": false
   },
   "id": "dbbd09718befa908"
  },
  {
   "cell_type": "code",
   "execution_count": 70,
   "outputs": [
    {
     "name": "stdout",
     "output_type": "stream",
     "text": [
      "          0         1         2         3         4         5         6  \\\n",
      "0  0.309917  0.367769  0.417355  0.442149  0.528926  0.607438  0.657025   \n",
      "1  0.454545  0.471074  0.512397  0.557851  0.595041  0.640496  0.681818   \n",
      "2  0.318182  0.400826  0.491736  0.528926  0.586777  0.657025  0.681818   \n",
      "3  0.198347  0.194215  0.194215  0.194215  0.190083  0.190083  0.243802   \n",
      "4  0.500000  0.545455  0.582645  0.623967  0.648760  0.690083  0.694215   \n",
      "\n",
      "          7         8         9  ...      4087      4088      4089      4090  \\\n",
      "0  0.677686  0.690083  0.685950  ...  0.669422  0.652893  0.661157  0.475207   \n",
      "1  0.702479  0.710744  0.702479  ...  0.157025  0.136364  0.148760  0.152893   \n",
      "2  0.685950  0.702479  0.698347  ...  0.132231  0.181818  0.136364  0.128099   \n",
      "3  0.404959  0.483471  0.516529  ...  0.636364  0.657025  0.685950  0.727273   \n",
      "4  0.714876  0.723140  0.731405  ...  0.161157  0.177686  0.173554  0.177686   \n",
      "\n",
      "       4091      4092      4093      4094      4095  target  \n",
      "0  0.132231  0.148760  0.152893  0.161157  0.157025       0  \n",
      "1  0.152893  0.152893  0.152893  0.152893  0.152893       0  \n",
      "2  0.148760  0.144628  0.140496  0.148760  0.152893       0  \n",
      "3  0.743802  0.764463  0.752066  0.752066  0.739669       0  \n",
      "4  0.177686  0.177686  0.177686  0.173554  0.173554       0  \n",
      "\n",
      "[5 rows x 4097 columns]\n",
      "Shape: (400, 4097)\n"
     ]
    }
   ],
   "source": [
    "face_df = pd.read_csv(\"face.csv\")\n",
    "print(face_df.head())\n",
    "print(f\"Shape: {face_df.shape}\")"
   ],
   "metadata": {
    "collapsed": false,
    "ExecuteTime": {
     "end_time": "2023-10-15T17:43:37.685923962Z",
     "start_time": "2023-10-15T17:43:37.167781650Z"
    }
   },
   "id": "401c791d5abf9851"
  },
  {
   "cell_type": "code",
   "execution_count": 71,
   "outputs": [],
   "source": [
    "face_df.dropna(inplace=True)"
   ],
   "metadata": {
    "collapsed": false,
    "ExecuteTime": {
     "end_time": "2023-10-15T17:43:37.686521682Z",
     "start_time": "2023-10-15T17:43:37.671718446Z"
    }
   },
   "id": "321bd8ad5a1f9116"
  },
  {
   "cell_type": "code",
   "execution_count": 72,
   "outputs": [
    {
     "name": "stdout",
     "output_type": "stream",
     "text": [
      "target\n",
      "0     10\n",
      "1     10\n",
      "22    10\n",
      "23    10\n",
      "24    10\n",
      "25    10\n",
      "26    10\n",
      "27    10\n",
      "28    10\n",
      "29    10\n",
      "30    10\n",
      "31    10\n",
      "32    10\n",
      "33    10\n",
      "34    10\n",
      "35    10\n",
      "36    10\n",
      "37    10\n",
      "38    10\n",
      "21    10\n",
      "20    10\n",
      "19    10\n",
      "9     10\n",
      "2     10\n",
      "3     10\n",
      "4     10\n",
      "5     10\n",
      "6     10\n",
      "7     10\n",
      "8     10\n",
      "10    10\n",
      "18    10\n",
      "11    10\n",
      "12    10\n",
      "13    10\n",
      "14    10\n",
      "15    10\n",
      "16    10\n",
      "17    10\n",
      "39    10\n",
      "Name: count, dtype: int64\n"
     ]
    }
   ],
   "source": [
    "print(face_df[\"target\"].value_counts())"
   ],
   "metadata": {
    "collapsed": false,
    "ExecuteTime": {
     "end_time": "2023-10-15T17:43:37.689153626Z",
     "start_time": "2023-10-15T17:43:37.684432787Z"
    }
   },
   "id": "163beec04638e17e"
  },
  {
   "cell_type": "code",
   "execution_count": 73,
   "outputs": [
    {
     "name": "stdout",
     "output_type": "stream",
     "text": [
      "X_train: (320, 4096)\n",
      "X_test: (80, 4096)\n"
     ]
    }
   ],
   "source": [
    "X_train, y_train, X_test, y_test = split_train_test(face_df, \"target\")\n",
    "print(f\"X_train: {X_train.shape}\")\n",
    "print(f\"X_test: {X_test.shape}\")"
   ],
   "metadata": {
    "collapsed": false,
    "ExecuteTime": {
     "end_time": "2023-10-15T17:43:37.958832294Z",
     "start_time": "2023-10-15T17:43:37.688368314Z"
    }
   },
   "id": "920ab9c33f04e9d1"
  },
  {
   "cell_type": "code",
   "execution_count": 74,
   "outputs": [
    {
     "name": "stdout",
     "output_type": "stream",
     "text": [
      "Number of components: 111\n"
     ]
    }
   ],
   "source": [
    "pca = PCA(0.95)\n",
    "pca.fit(X_train)\n",
    "print(f\"Number of components: {pca.n_components}\")"
   ],
   "metadata": {
    "collapsed": false,
    "ExecuteTime": {
     "end_time": "2023-10-15T17:44:23.869716296Z",
     "start_time": "2023-10-15T17:43:37.964949459Z"
    }
   },
   "id": "6b5a1654c1981e38"
  },
  {
   "cell_type": "code",
   "execution_count": 75,
   "outputs": [],
   "source": [
    "X_train_pca = pca.transform(X_train)\n",
    "X_test_pca = pca.transform(X_test)"
   ],
   "metadata": {
    "collapsed": false,
    "ExecuteTime": {
     "end_time": "2023-10-15T17:44:23.873084621Z",
     "start_time": "2023-10-15T17:44:23.859343596Z"
    }
   },
   "id": "de5a1fae2444a649"
  },
  {
   "cell_type": "code",
   "execution_count": 76,
   "outputs": [],
   "source": [
    "knn = KNN(5)\n",
    "knn.fit(X_train_pca, y_train)"
   ],
   "metadata": {
    "collapsed": false,
    "ExecuteTime": {
     "end_time": "2023-10-15T17:44:23.873363377Z",
     "start_time": "2023-10-15T17:44:23.859527876Z"
    }
   },
   "id": "8df32ea388222767"
  },
  {
   "cell_type": "code",
   "execution_count": 81,
   "outputs": [
    {
     "name": "stderr",
     "output_type": "stream",
     "text": [
      "/tmp/ipykernel_355215/2543780905.py:25: ComplexWarning: Casting complex values to real discards the imaginary part\n",
      "  dist[i, j] = np.sqrt(np.sum((X_test[i] - X_train[j])**2))\n"
     ]
    },
    {
     "name": "stdout",
     "output_type": "stream",
     "text": [
      "    Actual  Predicted\n",
      "0        0          0\n",
      "1        0          0\n",
      "2        1          1\n",
      "3        1          1\n",
      "4        2         39\n",
      "..     ...        ...\n",
      "75      37         37\n",
      "76      38         38\n",
      "77      38         38\n",
      "78      39         39\n",
      "79      39         39\n",
      "\n",
      "[80 rows x 2 columns]\n"
     ]
    }
   ],
   "source": [
    "y_pred = knn.predict(X_test_pca)\n",
    "results = pd.DataFrame({\"Actual\": y_test, \"Predicted\": y_pred})\n",
    "print(results)"
   ],
   "metadata": {
    "collapsed": false,
    "ExecuteTime": {
     "end_time": "2023-10-15T17:49:58.536733562Z",
     "start_time": "2023-10-15T17:49:57.910722787Z"
    }
   },
   "id": "919d08f6944c7063"
  },
  {
   "cell_type": "code",
   "execution_count": 79,
   "outputs": [
    {
     "name": "stdout",
     "output_type": "stream",
     "text": [
      "Accuracy: 0.8875\n"
     ]
    }
   ],
   "source": [
    "print(f\"Accuracy: {accuracy(y_pred, y_test)}\")"
   ],
   "metadata": {
    "collapsed": false,
    "ExecuteTime": {
     "end_time": "2023-10-15T17:44:58.688666757Z",
     "start_time": "2023-10-15T17:44:58.630806958Z"
    }
   },
   "id": "d5ac4ea532811b3e"
  }
 ],
 "metadata": {
  "kernelspec": {
   "display_name": "Python 3",
   "language": "python",
   "name": "python3"
  },
  "language_info": {
   "codemirror_mode": {
    "name": "ipython",
    "version": 2
   },
   "file_extension": ".py",
   "mimetype": "text/x-python",
   "name": "python",
   "nbconvert_exporter": "python",
   "pygments_lexer": "ipython2",
   "version": "2.7.6"
  }
 },
 "nbformat": 4,
 "nbformat_minor": 5
}
