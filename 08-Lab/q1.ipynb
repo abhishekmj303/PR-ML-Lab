{
 "cells": [
  {
   "cell_type": "code",
   "execution_count": 121,
   "id": "initial_id",
   "metadata": {
    "collapsed": true,
    "ExecuteTime": {
     "end_time": "2023-10-15T17:07:11.357383046Z",
     "start_time": "2023-10-15T17:07:11.294360018Z"
    }
   },
   "outputs": [],
   "source": [
    "import numpy as np\n",
    "import pandas as pd"
   ]
  },
  {
   "cell_type": "markdown",
   "source": [
    "# Principal Component Analysis (PCA)"
   ],
   "metadata": {
    "collapsed": false
   },
   "id": "6917accf246ed5e"
  },
  {
   "cell_type": "code",
   "execution_count": 122,
   "outputs": [],
   "source": [
    "class PCA:\n",
    "    def __init__(self, cumvar_threshold=0.95):\n",
    "        self.cumvar_threshold = cumvar_threshold\n",
    "        self.components = None\n",
    "        self.explained_variance = None\n",
    "        self.explained_variance_ratio = None\n",
    "        self.cumulative_variance_ratio = None\n",
    "        self.n_components = None\n",
    "        \n",
    "    def fit(self, X):\n",
    "        # covariance matrix\n",
    "        cov = covariance(X)\n",
    "        # eigenvalues and eigenvectors\n",
    "        eigenvalues, eigenvectors = np.linalg.eig(cov)\n",
    "        # sort eigenvalues and eigenvectors\n",
    "        idx = eigenvalues.argsort()[::-1]\n",
    "        eigenvalues = eigenvalues[idx]\n",
    "        eigenvectors = eigenvectors[:, idx]\n",
    "        # explained variance\n",
    "        self.explained_variance = eigenvalues\n",
    "        self.explained_variance_ratio = eigenvalues / eigenvalues.sum()\n",
    "        self.cumulative_variance_ratio = np.cumsum(self.explained_variance_ratio)\n",
    "        # number of components\n",
    "        self.n_components = np.argmax(self.cumulative_variance_ratio >= self.cumvar_threshold) + 1\n",
    "        # components\n",
    "        self.components = eigenvectors[:, :self.n_components]\n",
    "    \n",
    "    def transform(self, X):\n",
    "        return np.dot(X, self.components)"
   ],
   "metadata": {
    "collapsed": false,
    "ExecuteTime": {
     "end_time": "2023-10-15T17:07:11.418176722Z",
     "start_time": "2023-10-15T17:07:11.307660527Z"
    }
   },
   "id": "9d7437d57b4babe5"
  },
  {
   "cell_type": "markdown",
   "source": [
    "# K-Nearest Neighbors (KNN)"
   ],
   "metadata": {
    "collapsed": false
   },
   "id": "8a789b707d08d40a"
  },
  {
   "cell_type": "code",
   "execution_count": 123,
   "outputs": [],
   "source": [
    "class KNN:\n",
    "    def __init__(self, k=5):\n",
    "        self.k = k\n",
    "        self.X_train = None\n",
    "        self.y_train = None\n",
    "        self.distances = None\n",
    "    \n",
    "    def fit(self, X, y):\n",
    "        self.X_train = X\n",
    "        self.y_train = y\n",
    "    \n",
    "    def predict(self, X_test):\n",
    "        self.distances = self._euclidean_dist(self.X_train, X_test)\n",
    "        pred = []\n",
    "        for dist in self.distances:\n",
    "            k_nearest = dist.argsort()[:self.k]\n",
    "            k_nearest_labels = y_train.iloc[k_nearest]\n",
    "            pred.append(k_nearest_labels.value_counts().index[0])\n",
    "        return np.array(pred)\n",
    "    \n",
    "    def _euclidean_dist(self, X_train, X_test):\n",
    "        dist = np.zeros((len(X_test), len(X_train)))\n",
    "        for i in range(len(X_test)):\n",
    "            for j in range(len(X_train)):\n",
    "                dist[i, j] = np.sqrt(np.sum((X_test[i] - X_train[j])**2))\n",
    "        return dist"
   ],
   "metadata": {
    "collapsed": false,
    "ExecuteTime": {
     "end_time": "2023-10-15T17:07:11.500313179Z",
     "start_time": "2023-10-15T17:07:11.318218405Z"
    }
   },
   "id": "6ae9eec8f7e3536d"
  },
  {
   "cell_type": "code",
   "execution_count": 124,
   "outputs": [],
   "source": [
    "def covariance(X):\n",
    "    X = X - np.mean(X, axis=0)\n",
    "    return np.dot(X.T, X) / (len(X) - 1)"
   ],
   "metadata": {
    "collapsed": false,
    "ExecuteTime": {
     "end_time": "2023-10-15T17:07:11.527788668Z",
     "start_time": "2023-10-15T17:07:11.363569735Z"
    }
   },
   "id": "39f47aff14b740d9"
  },
  {
   "cell_type": "markdown",
   "source": [
    "# Split Train and Test Data"
   ],
   "metadata": {
    "collapsed": false
   },
   "id": "170bd9ab575f6a0a"
  },
  {
   "cell_type": "code",
   "execution_count": 125,
   "outputs": [],
   "source": [
    "def split_train_test(df, y_col):\n",
    "    train_data, test_data = pd.DataFrame(), pd.DataFrame()\n",
    "    for y in df[y_col].unique():\n",
    "        df_y = df[df[y_col] == y]\n",
    "        test_data = pd.concat([test_data, df_y[:10]], ignore_index=True)\n",
    "        train_data = pd.concat([train_data, df_y[10:]], ignore_index=True)\n",
    "    X_train, y_train = train_data.drop(y_col, axis=1), train_data[y_col]\n",
    "    X_test, y_test = test_data.drop(y_col, axis=1), test_data[y_col]\n",
    "    return X_train, y_train, X_test, y_test"
   ],
   "metadata": {
    "collapsed": false,
    "ExecuteTime": {
     "end_time": "2023-10-15T17:07:11.528147729Z",
     "start_time": "2023-10-15T17:07:11.363858113Z"
    }
   },
   "id": "7ec9fd22e13afff3"
  },
  {
   "cell_type": "markdown",
   "source": [
    "# Accuracy"
   ],
   "metadata": {
    "collapsed": false
   },
   "id": "95ff10ad93046e27"
  },
  {
   "cell_type": "code",
   "execution_count": 126,
   "outputs": [],
   "source": [
    "def accuracy(y_pred, y_test):\n",
    "    return np.sum(y_pred == y_test) / len(y_test)"
   ],
   "metadata": {
    "collapsed": false,
    "ExecuteTime": {
     "end_time": "2023-10-15T17:07:11.528271850Z",
     "start_time": "2023-10-15T17:07:11.363981072Z"
    }
   },
   "id": "1b52b955ea760a65"
  },
  {
   "cell_type": "markdown",
   "source": [
    "# Model"
   ],
   "metadata": {
    "collapsed": false
   },
   "id": "dbbd09718befa908"
  },
  {
   "cell_type": "code",
   "execution_count": 127,
   "outputs": [
    {
     "data": {
      "text/plain": "     Gender         0         1         2         3         4         5  \\\n0      male -0.066420  0.151611  0.027740  0.052771 -0.066105 -0.041232   \n1      male -0.030614  0.049667  0.008084 -0.050324  0.007649 -0.063818   \n2      male -0.096178  0.061127  0.035326 -0.035388 -0.090728 -0.018634   \n3      male -0.103057  0.085044  0.078333 -0.035873 -0.028163  0.004924   \n4      male -0.125815  0.120046  0.023131 -0.042901  0.038215 -0.049677   \n..      ...       ...       ...       ...       ...       ...       ...   \n795  female -0.164731  0.064301  0.058630 -0.017420 -0.157600 -0.022536   \n796  female -0.095308  0.051095  0.092913 -0.101745 -0.083153 -0.028159   \n797  female -0.202852  0.037039  0.079731 -0.047156 -0.140062 -0.080246   \n798  female -0.088300  0.063530  0.049627 -0.026011 -0.172773  0.086218   \n799  female -0.156201  0.055165  0.142716 -0.115393 -0.128982 -0.139830   \n\n            6         7         8  ...       118       119       120  \\\n0   -0.002637 -0.158467  0.130467  ...  0.025989 -0.001087  0.027260   \n1   -0.019530 -0.119905  0.186553  ...  0.044229 -0.023900 -0.028108   \n2   -0.024315 -0.139786  0.052211  ...  0.111141  0.059436 -0.029222   \n3    0.007829 -0.017016  0.114907  ...  0.100793 -0.002644 -0.023388   \n4   -0.054258 -0.130758  0.173457  ...  0.090197  0.067527  0.039926   \n..        ...       ...       ...  ...       ...       ...       ...   \n795  0.002864 -0.072739  0.030554  ...  0.095115  0.007198 -0.004655   \n796  0.009090 -0.114513  0.157421  ...  0.056078  0.119846  0.087470   \n797  0.057668 -0.122083  0.165443  ...  0.066954  0.035684 -0.023112   \n798  0.042710 -0.161852  0.185083  ...  0.039460  0.067547  0.040426   \n799 -0.037305 -0.101402  0.048473  ...  0.024955  0.066980 -0.002332   \n\n          121       122       123       124       125       126       127  \n0   -0.046754 -0.118619 -0.163774 -0.000590 -0.076400  0.107497  0.001567  \n1    0.040618 -0.146579 -0.141244  0.016162  0.017638  0.080610 -0.015930  \n2    0.042115 -0.222173 -0.116908  0.093428  0.017391  0.057652  0.086116  \n3    0.029497 -0.139830 -0.119243  0.005306 -0.015100  0.161575  0.062462  \n4    0.047469 -0.056852 -0.076700  0.004966  0.028171  0.026041  0.084135  \n..        ...       ...       ...       ...       ...       ...       ...  \n795  0.023957 -0.170753 -0.136630  0.041614  0.031600  0.019064  0.004384  \n796  0.017481 -0.096594 -0.084553  0.037709  0.030732 -0.083713  0.064970  \n797 -0.030452 -0.154243 -0.188270  0.071086  0.037384 -0.006257  0.039977  \n798  0.028007 -0.154515 -0.127736  0.046967  0.009701 -0.016942  0.048071  \n799 -0.045738 -0.110557 -0.014995 -0.002124 -0.010298 -0.028856  0.075323  \n\n[800 rows x 129 columns]",
      "text/html": "<div>\n<style scoped>\n    .dataframe tbody tr th:only-of-type {\n        vertical-align: middle;\n    }\n\n    .dataframe tbody tr th {\n        vertical-align: top;\n    }\n\n    .dataframe thead th {\n        text-align: right;\n    }\n</style>\n<table border=\"1\" class=\"dataframe\">\n  <thead>\n    <tr style=\"text-align: right;\">\n      <th></th>\n      <th>Gender</th>\n      <th>0</th>\n      <th>1</th>\n      <th>2</th>\n      <th>3</th>\n      <th>4</th>\n      <th>5</th>\n      <th>6</th>\n      <th>7</th>\n      <th>8</th>\n      <th>...</th>\n      <th>118</th>\n      <th>119</th>\n      <th>120</th>\n      <th>121</th>\n      <th>122</th>\n      <th>123</th>\n      <th>124</th>\n      <th>125</th>\n      <th>126</th>\n      <th>127</th>\n    </tr>\n  </thead>\n  <tbody>\n    <tr>\n      <th>0</th>\n      <td>male</td>\n      <td>-0.066420</td>\n      <td>0.151611</td>\n      <td>0.027740</td>\n      <td>0.052771</td>\n      <td>-0.066105</td>\n      <td>-0.041232</td>\n      <td>-0.002637</td>\n      <td>-0.158467</td>\n      <td>0.130467</td>\n      <td>...</td>\n      <td>0.025989</td>\n      <td>-0.001087</td>\n      <td>0.027260</td>\n      <td>-0.046754</td>\n      <td>-0.118619</td>\n      <td>-0.163774</td>\n      <td>-0.000590</td>\n      <td>-0.076400</td>\n      <td>0.107497</td>\n      <td>0.001567</td>\n    </tr>\n    <tr>\n      <th>1</th>\n      <td>male</td>\n      <td>-0.030614</td>\n      <td>0.049667</td>\n      <td>0.008084</td>\n      <td>-0.050324</td>\n      <td>0.007649</td>\n      <td>-0.063818</td>\n      <td>-0.019530</td>\n      <td>-0.119905</td>\n      <td>0.186553</td>\n      <td>...</td>\n      <td>0.044229</td>\n      <td>-0.023900</td>\n      <td>-0.028108</td>\n      <td>0.040618</td>\n      <td>-0.146579</td>\n      <td>-0.141244</td>\n      <td>0.016162</td>\n      <td>0.017638</td>\n      <td>0.080610</td>\n      <td>-0.015930</td>\n    </tr>\n    <tr>\n      <th>2</th>\n      <td>male</td>\n      <td>-0.096178</td>\n      <td>0.061127</td>\n      <td>0.035326</td>\n      <td>-0.035388</td>\n      <td>-0.090728</td>\n      <td>-0.018634</td>\n      <td>-0.024315</td>\n      <td>-0.139786</td>\n      <td>0.052211</td>\n      <td>...</td>\n      <td>0.111141</td>\n      <td>0.059436</td>\n      <td>-0.029222</td>\n      <td>0.042115</td>\n      <td>-0.222173</td>\n      <td>-0.116908</td>\n      <td>0.093428</td>\n      <td>0.017391</td>\n      <td>0.057652</td>\n      <td>0.086116</td>\n    </tr>\n    <tr>\n      <th>3</th>\n      <td>male</td>\n      <td>-0.103057</td>\n      <td>0.085044</td>\n      <td>0.078333</td>\n      <td>-0.035873</td>\n      <td>-0.028163</td>\n      <td>0.004924</td>\n      <td>0.007829</td>\n      <td>-0.017016</td>\n      <td>0.114907</td>\n      <td>...</td>\n      <td>0.100793</td>\n      <td>-0.002644</td>\n      <td>-0.023388</td>\n      <td>0.029497</td>\n      <td>-0.139830</td>\n      <td>-0.119243</td>\n      <td>0.005306</td>\n      <td>-0.015100</td>\n      <td>0.161575</td>\n      <td>0.062462</td>\n    </tr>\n    <tr>\n      <th>4</th>\n      <td>male</td>\n      <td>-0.125815</td>\n      <td>0.120046</td>\n      <td>0.023131</td>\n      <td>-0.042901</td>\n      <td>0.038215</td>\n      <td>-0.049677</td>\n      <td>-0.054258</td>\n      <td>-0.130758</td>\n      <td>0.173457</td>\n      <td>...</td>\n      <td>0.090197</td>\n      <td>0.067527</td>\n      <td>0.039926</td>\n      <td>0.047469</td>\n      <td>-0.056852</td>\n      <td>-0.076700</td>\n      <td>0.004966</td>\n      <td>0.028171</td>\n      <td>0.026041</td>\n      <td>0.084135</td>\n    </tr>\n    <tr>\n      <th>...</th>\n      <td>...</td>\n      <td>...</td>\n      <td>...</td>\n      <td>...</td>\n      <td>...</td>\n      <td>...</td>\n      <td>...</td>\n      <td>...</td>\n      <td>...</td>\n      <td>...</td>\n      <td>...</td>\n      <td>...</td>\n      <td>...</td>\n      <td>...</td>\n      <td>...</td>\n      <td>...</td>\n      <td>...</td>\n      <td>...</td>\n      <td>...</td>\n      <td>...</td>\n      <td>...</td>\n    </tr>\n    <tr>\n      <th>795</th>\n      <td>female</td>\n      <td>-0.164731</td>\n      <td>0.064301</td>\n      <td>0.058630</td>\n      <td>-0.017420</td>\n      <td>-0.157600</td>\n      <td>-0.022536</td>\n      <td>0.002864</td>\n      <td>-0.072739</td>\n      <td>0.030554</td>\n      <td>...</td>\n      <td>0.095115</td>\n      <td>0.007198</td>\n      <td>-0.004655</td>\n      <td>0.023957</td>\n      <td>-0.170753</td>\n      <td>-0.136630</td>\n      <td>0.041614</td>\n      <td>0.031600</td>\n      <td>0.019064</td>\n      <td>0.004384</td>\n    </tr>\n    <tr>\n      <th>796</th>\n      <td>female</td>\n      <td>-0.095308</td>\n      <td>0.051095</td>\n      <td>0.092913</td>\n      <td>-0.101745</td>\n      <td>-0.083153</td>\n      <td>-0.028159</td>\n      <td>0.009090</td>\n      <td>-0.114513</td>\n      <td>0.157421</td>\n      <td>...</td>\n      <td>0.056078</td>\n      <td>0.119846</td>\n      <td>0.087470</td>\n      <td>0.017481</td>\n      <td>-0.096594</td>\n      <td>-0.084553</td>\n      <td>0.037709</td>\n      <td>0.030732</td>\n      <td>-0.083713</td>\n      <td>0.064970</td>\n    </tr>\n    <tr>\n      <th>797</th>\n      <td>female</td>\n      <td>-0.202852</td>\n      <td>0.037039</td>\n      <td>0.079731</td>\n      <td>-0.047156</td>\n      <td>-0.140062</td>\n      <td>-0.080246</td>\n      <td>0.057668</td>\n      <td>-0.122083</td>\n      <td>0.165443</td>\n      <td>...</td>\n      <td>0.066954</td>\n      <td>0.035684</td>\n      <td>-0.023112</td>\n      <td>-0.030452</td>\n      <td>-0.154243</td>\n      <td>-0.188270</td>\n      <td>0.071086</td>\n      <td>0.037384</td>\n      <td>-0.006257</td>\n      <td>0.039977</td>\n    </tr>\n    <tr>\n      <th>798</th>\n      <td>female</td>\n      <td>-0.088300</td>\n      <td>0.063530</td>\n      <td>0.049627</td>\n      <td>-0.026011</td>\n      <td>-0.172773</td>\n      <td>0.086218</td>\n      <td>0.042710</td>\n      <td>-0.161852</td>\n      <td>0.185083</td>\n      <td>...</td>\n      <td>0.039460</td>\n      <td>0.067547</td>\n      <td>0.040426</td>\n      <td>0.028007</td>\n      <td>-0.154515</td>\n      <td>-0.127736</td>\n      <td>0.046967</td>\n      <td>0.009701</td>\n      <td>-0.016942</td>\n      <td>0.048071</td>\n    </tr>\n    <tr>\n      <th>799</th>\n      <td>female</td>\n      <td>-0.156201</td>\n      <td>0.055165</td>\n      <td>0.142716</td>\n      <td>-0.115393</td>\n      <td>-0.128982</td>\n      <td>-0.139830</td>\n      <td>-0.037305</td>\n      <td>-0.101402</td>\n      <td>0.048473</td>\n      <td>...</td>\n      <td>0.024955</td>\n      <td>0.066980</td>\n      <td>-0.002332</td>\n      <td>-0.045738</td>\n      <td>-0.110557</td>\n      <td>-0.014995</td>\n      <td>-0.002124</td>\n      <td>-0.010298</td>\n      <td>-0.028856</td>\n      <td>0.075323</td>\n    </tr>\n  </tbody>\n</table>\n<p>800 rows × 129 columns</p>\n</div>"
     },
     "execution_count": 127,
     "metadata": {},
     "output_type": "execute_result"
    }
   ],
   "source": [
    "gender_df = pd.read_csv(\"gender.csv\").drop(\"Unnamed: 0\", axis=1)\n",
    "gender_df.rename(columns={'Unnamed: 1': 'Gender'}, inplace=True)\n",
    "print(gender_df.head())"
   ],
   "metadata": {
    "collapsed": false,
    "ExecuteTime": {
     "end_time": "2023-10-15T17:07:11.529859755Z",
     "start_time": "2023-10-15T17:07:11.364124951Z"
    }
   },
   "id": "401c791d5abf9851"
  },
  {
   "cell_type": "code",
   "execution_count": 128,
   "outputs": [
    {
     "name": "stdout",
     "output_type": "stream",
     "text": [
      "X_train: 780\n",
      "X_test: 20\n"
     ]
    }
   ],
   "source": [
    "X_train, y_train, X_test, y_test = split_train_test(gender_df, \"Gender\")\n",
    "print(f\"X_train: {len(X_train)}\")\n",
    "print(f\"X_test: {len(X_test)}\")"
   ],
   "metadata": {
    "collapsed": false,
    "ExecuteTime": {
     "end_time": "2023-10-15T17:07:11.546659556Z",
     "start_time": "2023-10-15T17:07:11.405494707Z"
    }
   },
   "id": "920ab9c33f04e9d1"
  },
  {
   "cell_type": "code",
   "execution_count": 129,
   "outputs": [
    {
     "name": "stdout",
     "output_type": "stream",
     "text": [
      "Number of components: 57\n"
     ]
    }
   ],
   "source": [
    "pca = PCA(0.95)\n",
    "pca.fit(X_train)\n",
    "print(f\"Number of components: {pca.n_components}\")"
   ],
   "metadata": {
    "collapsed": false,
    "ExecuteTime": {
     "end_time": "2023-10-15T17:07:11.594899968Z",
     "start_time": "2023-10-15T17:07:11.412627613Z"
    }
   },
   "id": "6b5a1654c1981e38"
  },
  {
   "cell_type": "code",
   "execution_count": 130,
   "outputs": [],
   "source": [
    "X_train_pca = pca.transform(X_train)\n",
    "X_test_pca = pca.transform(X_test)"
   ],
   "metadata": {
    "collapsed": false,
    "ExecuteTime": {
     "end_time": "2023-10-15T17:07:11.595266592Z",
     "start_time": "2023-10-15T17:07:11.453436673Z"
    }
   },
   "id": "de5a1fae2444a649"
  },
  {
   "cell_type": "code",
   "execution_count": 131,
   "outputs": [],
   "source": [
    "knn = KNN(5)\n",
    "knn.fit(X_train_pca, y_train)"
   ],
   "metadata": {
    "collapsed": false,
    "ExecuteTime": {
     "end_time": "2023-10-15T17:07:11.595475001Z",
     "start_time": "2023-10-15T17:07:11.453635764Z"
    }
   },
   "id": "8df32ea388222767"
  },
  {
   "cell_type": "code",
   "execution_count": 132,
   "outputs": [
    {
     "data": {
      "text/plain": "    Actual Predicted\n0     male      male\n1     male      male\n2     male      male\n3     male      male\n4     male      male\n5     male      male\n6     male      male\n7     male    female\n8     male      male\n9     male      male\n10  female      male\n11  female      male\n12  female    female\n13  female    female\n14  female    female\n15  female    female\n16  female    female\n17  female    female\n18  female    female\n19  female    female",
      "text/html": "<div>\n<style scoped>\n    .dataframe tbody tr th:only-of-type {\n        vertical-align: middle;\n    }\n\n    .dataframe tbody tr th {\n        vertical-align: top;\n    }\n\n    .dataframe thead th {\n        text-align: right;\n    }\n</style>\n<table border=\"1\" class=\"dataframe\">\n  <thead>\n    <tr style=\"text-align: right;\">\n      <th></th>\n      <th>Actual</th>\n      <th>Predicted</th>\n    </tr>\n  </thead>\n  <tbody>\n    <tr>\n      <th>0</th>\n      <td>male</td>\n      <td>male</td>\n    </tr>\n    <tr>\n      <th>1</th>\n      <td>male</td>\n      <td>male</td>\n    </tr>\n    <tr>\n      <th>2</th>\n      <td>male</td>\n      <td>male</td>\n    </tr>\n    <tr>\n      <th>3</th>\n      <td>male</td>\n      <td>male</td>\n    </tr>\n    <tr>\n      <th>4</th>\n      <td>male</td>\n      <td>male</td>\n    </tr>\n    <tr>\n      <th>5</th>\n      <td>male</td>\n      <td>male</td>\n    </tr>\n    <tr>\n      <th>6</th>\n      <td>male</td>\n      <td>male</td>\n    </tr>\n    <tr>\n      <th>7</th>\n      <td>male</td>\n      <td>female</td>\n    </tr>\n    <tr>\n      <th>8</th>\n      <td>male</td>\n      <td>male</td>\n    </tr>\n    <tr>\n      <th>9</th>\n      <td>male</td>\n      <td>male</td>\n    </tr>\n    <tr>\n      <th>10</th>\n      <td>female</td>\n      <td>male</td>\n    </tr>\n    <tr>\n      <th>11</th>\n      <td>female</td>\n      <td>male</td>\n    </tr>\n    <tr>\n      <th>12</th>\n      <td>female</td>\n      <td>female</td>\n    </tr>\n    <tr>\n      <th>13</th>\n      <td>female</td>\n      <td>female</td>\n    </tr>\n    <tr>\n      <th>14</th>\n      <td>female</td>\n      <td>female</td>\n    </tr>\n    <tr>\n      <th>15</th>\n      <td>female</td>\n      <td>female</td>\n    </tr>\n    <tr>\n      <th>16</th>\n      <td>female</td>\n      <td>female</td>\n    </tr>\n    <tr>\n      <th>17</th>\n      <td>female</td>\n      <td>female</td>\n    </tr>\n    <tr>\n      <th>18</th>\n      <td>female</td>\n      <td>female</td>\n    </tr>\n    <tr>\n      <th>19</th>\n      <td>female</td>\n      <td>female</td>\n    </tr>\n  </tbody>\n</table>\n</div>"
     },
     "execution_count": 132,
     "metadata": {},
     "output_type": "execute_result"
    }
   ],
   "source": [
    "y_pred = knn.predict(X_test_pca)\n",
    "results = pd.DataFrame({\"Actual\": y_test, \"Predicted\": y_pred})\n",
    "print(results)"
   ],
   "metadata": {
    "collapsed": false,
    "ExecuteTime": {
     "end_time": "2023-10-15T17:07:11.766506182Z",
     "start_time": "2023-10-15T17:07:11.453725853Z"
    }
   },
   "id": "919d08f6944c7063"
  },
  {
   "cell_type": "code",
   "execution_count": 133,
   "outputs": [
    {
     "name": "stdout",
     "output_type": "stream",
     "text": [
      "Accuracy: 0.85\n"
     ]
    }
   ],
   "source": [
    "print(f\"Accuracy: {accuracy(knn.predict(X_test_pca), y_test)}\")"
   ],
   "metadata": {
    "collapsed": false,
    "ExecuteTime": {
     "end_time": "2023-10-15T17:07:11.896600915Z",
     "start_time": "2023-10-15T17:07:11.734749170Z"
    }
   },
   "id": "d5ac4ea532811b3e"
  }
 ],
 "metadata": {
  "kernelspec": {
   "display_name": "Python 3",
   "language": "python",
   "name": "python3"
  },
  "language_info": {
   "codemirror_mode": {
    "name": "ipython",
    "version": 2
   },
   "file_extension": ".py",
   "mimetype": "text/x-python",
   "name": "python",
   "nbconvert_exporter": "python",
   "pygments_lexer": "ipython2",
   "version": "2.7.6"
  }
 },
 "nbformat": 4,
 "nbformat_minor": 5
}
