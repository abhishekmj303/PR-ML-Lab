{
 "cells": [
  {
   "cell_type": "code",
   "execution_count": 113,
   "id": "initial_id",
   "metadata": {
    "collapsed": true,
    "ExecuteTime": {
     "end_time": "2023-08-14T12:21:19.862730461Z",
     "start_time": "2023-08-14T12:21:19.705311459Z"
    }
   },
   "outputs": [],
   "source": [
    "import numpy as np\n",
    "import pandas as pd"
   ]
  },
  {
   "cell_type": "code",
   "execution_count": 114,
   "outputs": [],
   "source": [
    "def split_train_test(df, species, indices=()):\n",
    "    train_dfs = []\n",
    "    test_df = pd.DataFrame()\n",
    "    # randomly pick one sample from each species\n",
    "    for specie in species:\n",
    "        specie_df = df[df['Species'] == specie]\n",
    "        test_sample = specie_df.sample(n=1)\n",
    "        # test_sample = specie_df.iloc[0]\n",
    "        test_df = pd.concat([test_df, test_sample])\n",
    "        train_df = specie_df.drop(test_sample.index)\n",
    "        train_dfs.append(train_df)\n",
    "    \n",
    "    return train_dfs, test_df"
   ],
   "metadata": {
    "collapsed": false,
    "ExecuteTime": {
     "end_time": "2023-08-14T12:21:19.893686195Z",
     "start_time": "2023-08-14T12:21:19.716767792Z"
    }
   },
   "id": "852e1cb307298691"
  },
  {
   "cell_type": "code",
   "execution_count": 115,
   "outputs": [],
   "source": [
    "def mahalanobis_distance(x, df: pd.DataFrame):\n",
    "    mean_vec = df.mean().values\n",
    "    cov_mat = df.cov().values\n",
    "    inv_cov_mat = np.linalg.inv(cov_mat)\n",
    "    return np.sqrt((x-mean_vec).T @ inv_cov_mat @ (x-mean_vec))"
   ],
   "metadata": {
    "collapsed": false,
    "ExecuteTime": {
     "end_time": "2023-08-14T12:21:19.951127687Z",
     "start_time": "2023-08-14T12:21:19.766498994Z"
    }
   },
   "id": "a37b56e8fcafdff2"
  },
  {
   "cell_type": "code",
   "execution_count": 116,
   "outputs": [],
   "source": [
    "def mahalanobis_classify(test_df, train_dfs, species):\n",
    "    y_pred = []\n",
    "    y_dist = []\n",
    "    for sample in test_df.values:\n",
    "        distances = []\n",
    "        for train_df in train_dfs:\n",
    "            distances.append(mahalanobis_distance(sample, train_df))\n",
    "        pred_idx = np.argmin(distances)\n",
    "        y_pred.append(species[pred_idx])\n",
    "        y_dist.append(distances[pred_idx])\n",
    "    return y_pred, y_dist"
   ],
   "metadata": {
    "collapsed": false,
    "ExecuteTime": {
     "end_time": "2023-08-14T12:21:19.951748660Z",
     "start_time": "2023-08-14T12:21:19.766859263Z"
    }
   },
   "id": "294372e7b620fb8d"
  },
  {
   "cell_type": "code",
   "execution_count": 117,
   "outputs": [],
   "source": [
    "def accuracy(y_test, y_pred):\n",
    "    return np.sum(y_test == y_pred) / len(y_test)"
   ],
   "metadata": {
    "collapsed": false,
    "ExecuteTime": {
     "end_time": "2023-08-14T12:21:19.951948451Z",
     "start_time": "2023-08-14T12:21:19.767029799Z"
    }
   },
   "id": "7ba508cc15a47485"
  },
  {
   "cell_type": "markdown",
   "source": [
    "# Load"
   ],
   "metadata": {
    "collapsed": false
   },
   "id": "ac3c5dcdc5fbf132"
  },
  {
   "cell_type": "code",
   "execution_count": 118,
   "outputs": [
    {
     "data": {
      "text/plain": "     SepalLengthCm  SepalWidthCm  PetalLengthCm  PetalWidthCm         Species\n0              5.1           3.5            1.4           0.2     Iris-setosa\n1              4.9           3.0            1.4           0.2     Iris-setosa\n2              4.7           3.2            1.3           0.2     Iris-setosa\n3              4.6           3.1            1.5           0.2     Iris-setosa\n4              5.0           3.6            1.4           0.2     Iris-setosa\n..             ...           ...            ...           ...             ...\n145            6.7           3.0            5.2           2.3  Iris-virginica\n146            6.3           2.5            5.0           1.9  Iris-virginica\n147            6.5           3.0            5.2           2.0  Iris-virginica\n148            6.2           3.4            5.4           2.3  Iris-virginica\n149            5.9           3.0            5.1           1.8  Iris-virginica\n\n[150 rows x 5 columns]",
      "text/html": "<div>\n<style scoped>\n    .dataframe tbody tr th:only-of-type {\n        vertical-align: middle;\n    }\n\n    .dataframe tbody tr th {\n        vertical-align: top;\n    }\n\n    .dataframe thead th {\n        text-align: right;\n    }\n</style>\n<table border=\"1\" class=\"dataframe\">\n  <thead>\n    <tr style=\"text-align: right;\">\n      <th></th>\n      <th>SepalLengthCm</th>\n      <th>SepalWidthCm</th>\n      <th>PetalLengthCm</th>\n      <th>PetalWidthCm</th>\n      <th>Species</th>\n    </tr>\n  </thead>\n  <tbody>\n    <tr>\n      <th>0</th>\n      <td>5.1</td>\n      <td>3.5</td>\n      <td>1.4</td>\n      <td>0.2</td>\n      <td>Iris-setosa</td>\n    </tr>\n    <tr>\n      <th>1</th>\n      <td>4.9</td>\n      <td>3.0</td>\n      <td>1.4</td>\n      <td>0.2</td>\n      <td>Iris-setosa</td>\n    </tr>\n    <tr>\n      <th>2</th>\n      <td>4.7</td>\n      <td>3.2</td>\n      <td>1.3</td>\n      <td>0.2</td>\n      <td>Iris-setosa</td>\n    </tr>\n    <tr>\n      <th>3</th>\n      <td>4.6</td>\n      <td>3.1</td>\n      <td>1.5</td>\n      <td>0.2</td>\n      <td>Iris-setosa</td>\n    </tr>\n    <tr>\n      <th>4</th>\n      <td>5.0</td>\n      <td>3.6</td>\n      <td>1.4</td>\n      <td>0.2</td>\n      <td>Iris-setosa</td>\n    </tr>\n    <tr>\n      <th>...</th>\n      <td>...</td>\n      <td>...</td>\n      <td>...</td>\n      <td>...</td>\n      <td>...</td>\n    </tr>\n    <tr>\n      <th>145</th>\n      <td>6.7</td>\n      <td>3.0</td>\n      <td>5.2</td>\n      <td>2.3</td>\n      <td>Iris-virginica</td>\n    </tr>\n    <tr>\n      <th>146</th>\n      <td>6.3</td>\n      <td>2.5</td>\n      <td>5.0</td>\n      <td>1.9</td>\n      <td>Iris-virginica</td>\n    </tr>\n    <tr>\n      <th>147</th>\n      <td>6.5</td>\n      <td>3.0</td>\n      <td>5.2</td>\n      <td>2.0</td>\n      <td>Iris-virginica</td>\n    </tr>\n    <tr>\n      <th>148</th>\n      <td>6.2</td>\n      <td>3.4</td>\n      <td>5.4</td>\n      <td>2.3</td>\n      <td>Iris-virginica</td>\n    </tr>\n    <tr>\n      <th>149</th>\n      <td>5.9</td>\n      <td>3.0</td>\n      <td>5.1</td>\n      <td>1.8</td>\n      <td>Iris-virginica</td>\n    </tr>\n  </tbody>\n</table>\n<p>150 rows × 5 columns</p>\n</div>"
     },
     "execution_count": 118,
     "metadata": {},
     "output_type": "execute_result"
    }
   ],
   "source": [
    "iris_df = pd.read_csv('iris.csv').drop('Id', axis=1)\n",
    "iris_df"
   ],
   "metadata": {
    "collapsed": false,
    "ExecuteTime": {
     "end_time": "2023-08-14T12:21:19.953747400Z",
     "start_time": "2023-08-14T12:21:19.767203852Z"
    }
   },
   "id": "8035ee6e5cb7e270"
  },
  {
   "cell_type": "markdown",
   "source": [
    "# Split Test-Train"
   ],
   "metadata": {
    "collapsed": false
   },
   "id": "4703539119ae3a0b"
  },
  {
   "cell_type": "code",
   "execution_count": 119,
   "outputs": [
    {
     "data": {
      "text/plain": "     SepalLengthCm  SepalWidthCm  PetalLengthCm  PetalWidthCm          Species\n37             4.9           3.1            1.5           0.1      Iris-setosa\n92             5.8           2.6            4.0           1.2  Iris-versicolor\n146            6.3           2.5            5.0           1.9   Iris-virginica",
      "text/html": "<div>\n<style scoped>\n    .dataframe tbody tr th:only-of-type {\n        vertical-align: middle;\n    }\n\n    .dataframe tbody tr th {\n        vertical-align: top;\n    }\n\n    .dataframe thead th {\n        text-align: right;\n    }\n</style>\n<table border=\"1\" class=\"dataframe\">\n  <thead>\n    <tr style=\"text-align: right;\">\n      <th></th>\n      <th>SepalLengthCm</th>\n      <th>SepalWidthCm</th>\n      <th>PetalLengthCm</th>\n      <th>PetalWidthCm</th>\n      <th>Species</th>\n    </tr>\n  </thead>\n  <tbody>\n    <tr>\n      <th>37</th>\n      <td>4.9</td>\n      <td>3.1</td>\n      <td>1.5</td>\n      <td>0.1</td>\n      <td>Iris-setosa</td>\n    </tr>\n    <tr>\n      <th>92</th>\n      <td>5.8</td>\n      <td>2.6</td>\n      <td>4.0</td>\n      <td>1.2</td>\n      <td>Iris-versicolor</td>\n    </tr>\n    <tr>\n      <th>146</th>\n      <td>6.3</td>\n      <td>2.5</td>\n      <td>5.0</td>\n      <td>1.9</td>\n      <td>Iris-virginica</td>\n    </tr>\n  </tbody>\n</table>\n</div>"
     },
     "execution_count": 119,
     "metadata": {},
     "output_type": "execute_result"
    }
   ],
   "source": [
    "species = iris_df['Species'].unique()\n",
    "train_dfs, test_df = split_train_test(iris_df, species)\n",
    "test_df"
   ],
   "metadata": {
    "collapsed": false,
    "ExecuteTime": {
     "end_time": "2023-08-14T12:21:19.954904848Z",
     "start_time": "2023-08-14T12:21:19.816338597Z"
    }
   },
   "id": "c2dfb80ec930d37c"
  },
  {
   "cell_type": "code",
   "execution_count": 120,
   "outputs": [],
   "source": [
    "X_train_dfs = [train_df.drop('Species', axis=1) for train_df in train_dfs]\n",
    "X_test = test_df.drop('Species', axis=1)\n",
    "y_train_dfs = [train_df['Species'] for train_df in train_dfs]\n",
    "y_test = test_df['Species']"
   ],
   "metadata": {
    "collapsed": false,
    "ExecuteTime": {
     "end_time": "2023-08-14T12:21:19.968397260Z",
     "start_time": "2023-08-14T12:21:19.830341206Z"
    }
   },
   "id": "98a1892bc468350b"
  },
  {
   "cell_type": "code",
   "execution_count": 121,
   "outputs": [
    {
     "data": {
      "text/plain": "              Actual        Predicted  Distance\n37       Iris-setosa      Iris-setosa  1.732058\n92   Iris-versicolor  Iris-versicolor  0.716156\n146   Iris-virginica   Iris-virginica  2.111874",
      "text/html": "<div>\n<style scoped>\n    .dataframe tbody tr th:only-of-type {\n        vertical-align: middle;\n    }\n\n    .dataframe tbody tr th {\n        vertical-align: top;\n    }\n\n    .dataframe thead th {\n        text-align: right;\n    }\n</style>\n<table border=\"1\" class=\"dataframe\">\n  <thead>\n    <tr style=\"text-align: right;\">\n      <th></th>\n      <th>Actual</th>\n      <th>Predicted</th>\n      <th>Distance</th>\n    </tr>\n  </thead>\n  <tbody>\n    <tr>\n      <th>37</th>\n      <td>Iris-setosa</td>\n      <td>Iris-setosa</td>\n      <td>1.732058</td>\n    </tr>\n    <tr>\n      <th>92</th>\n      <td>Iris-versicolor</td>\n      <td>Iris-versicolor</td>\n      <td>0.716156</td>\n    </tr>\n    <tr>\n      <th>146</th>\n      <td>Iris-virginica</td>\n      <td>Iris-virginica</td>\n      <td>2.111874</td>\n    </tr>\n  </tbody>\n</table>\n</div>"
     },
     "execution_count": 121,
     "metadata": {},
     "output_type": "execute_result"
    }
   ],
   "source": [
    "y_pred, y_dist = mahalanobis_classify(X_test, X_train_dfs, species)\n",
    "result_df = pd.DataFrame({'Actual': y_test, 'Predicted': y_pred, 'Distance': y_dist})\n",
    "result_df"
   ],
   "metadata": {
    "collapsed": false,
    "ExecuteTime": {
     "end_time": "2023-08-14T12:21:19.969439665Z",
     "start_time": "2023-08-14T12:21:19.870609344Z"
    }
   },
   "id": "a3a03f30d65990fb"
  },
  {
   "cell_type": "markdown",
   "source": [
    "# Performance"
   ],
   "metadata": {
    "collapsed": false
   },
   "id": "3c0efb5589fb53d4"
  },
  {
   "cell_type": "code",
   "execution_count": 122,
   "outputs": [
    {
     "name": "stdout",
     "output_type": "stream",
     "text": [
      "Accuracy: 1.0\n"
     ]
    }
   ],
   "source": [
    "print('Accuracy:', accuracy(y_test, y_pred))"
   ],
   "metadata": {
    "collapsed": false,
    "ExecuteTime": {
     "end_time": "2023-08-14T12:21:20.013669807Z",
     "start_time": "2023-08-14T12:21:19.912616470Z"
    }
   },
   "id": "cf15f6eed543669b"
  }
 ],
 "metadata": {
  "kernelspec": {
   "display_name": "Python 3",
   "language": "python",
   "name": "python3"
  },
  "language_info": {
   "codemirror_mode": {
    "name": "ipython",
    "version": 2
   },
   "file_extension": ".py",
   "mimetype": "text/x-python",
   "name": "python",
   "nbconvert_exporter": "python",
   "pygments_lexer": "ipython2",
   "version": "2.7.6"
  }
 },
 "nbformat": 4,
 "nbformat_minor": 5
}
