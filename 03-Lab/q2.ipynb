{
 "cells": [
  {
   "cell_type": "code",
   "execution_count": 26,
   "id": "initial_id",
   "metadata": {
    "collapsed": true,
    "ExecuteTime": {
     "end_time": "2023-08-20T16:56:57.539291343Z",
     "start_time": "2023-08-20T16:56:57.370053532Z"
    }
   },
   "outputs": [],
   "source": [
    "import numpy as np\n",
    "import pandas as pd"
   ]
  },
  {
   "cell_type": "code",
   "execution_count": 27,
   "outputs": [],
   "source": [
    "def correlation(x, y):\n",
    "    x_mean = np.mean(x)\n",
    "    y_mean = np.mean(y)\n",
    "    x_std = np.std(x)\n",
    "    y_std = np.std(y)\n",
    "    n = len(x)\n",
    "    return np.sum((x - x_mean) * (y - y_mean)) / (n * x_std * y_std)"
   ],
   "metadata": {
    "collapsed": false,
    "ExecuteTime": {
     "end_time": "2023-08-20T16:56:57.607405636Z",
     "start_time": "2023-08-20T16:56:57.380781885Z"
    }
   },
   "id": "239464dcc219bf0e"
  },
  {
   "cell_type": "markdown",
   "source": [
    "# Load the data"
   ],
   "metadata": {
    "collapsed": false
   },
   "id": "66b3c8b14df1af51"
  },
  {
   "cell_type": "code",
   "execution_count": 28,
   "outputs": [
    {
     "data": {
      "text/plain": "   Hours Studied  Hours Watching TV  Outdoor Activity Time  \\\n0              2                  4                      2   \n1              3                  3                      4   \n2              4                  2                      6   \n3              5                  1                      8   \n4              6                  0                     10   \n5              7                  0                     12   \n\n   Hours Listening to Music  Water Consumed  Test Score  \n0                         2               5          65  \n1                         3               6          70  \n2                         4               5          75  \n3                         1               6          80  \n4                         5               4          85  \n5                         0               5          90  ",
      "text/html": "<div>\n<style scoped>\n    .dataframe tbody tr th:only-of-type {\n        vertical-align: middle;\n    }\n\n    .dataframe tbody tr th {\n        vertical-align: top;\n    }\n\n    .dataframe thead th {\n        text-align: right;\n    }\n</style>\n<table border=\"1\" class=\"dataframe\">\n  <thead>\n    <tr style=\"text-align: right;\">\n      <th></th>\n      <th>Hours Studied</th>\n      <th>Hours Watching TV</th>\n      <th>Outdoor Activity Time</th>\n      <th>Hours Listening to Music</th>\n      <th>Water Consumed</th>\n      <th>Test Score</th>\n    </tr>\n  </thead>\n  <tbody>\n    <tr>\n      <th>0</th>\n      <td>2</td>\n      <td>4</td>\n      <td>2</td>\n      <td>2</td>\n      <td>5</td>\n      <td>65</td>\n    </tr>\n    <tr>\n      <th>1</th>\n      <td>3</td>\n      <td>3</td>\n      <td>4</td>\n      <td>3</td>\n      <td>6</td>\n      <td>70</td>\n    </tr>\n    <tr>\n      <th>2</th>\n      <td>4</td>\n      <td>2</td>\n      <td>6</td>\n      <td>4</td>\n      <td>5</td>\n      <td>75</td>\n    </tr>\n    <tr>\n      <th>3</th>\n      <td>5</td>\n      <td>1</td>\n      <td>8</td>\n      <td>1</td>\n      <td>6</td>\n      <td>80</td>\n    </tr>\n    <tr>\n      <th>4</th>\n      <td>6</td>\n      <td>0</td>\n      <td>10</td>\n      <td>5</td>\n      <td>4</td>\n      <td>85</td>\n    </tr>\n    <tr>\n      <th>5</th>\n      <td>7</td>\n      <td>0</td>\n      <td>12</td>\n      <td>0</td>\n      <td>5</td>\n      <td>90</td>\n    </tr>\n  </tbody>\n</table>\n</div>"
     },
     "execution_count": 28,
     "metadata": {},
     "output_type": "execute_result"
    }
   ],
   "source": [
    "data = {\n",
    "    \"Hours Studied\": [2, 3, 4, 5, 6, 7],\n",
    "    \"Hours Watching TV\": [4, 3, 2, 1, 0, 0],\n",
    "    \"Outdoor Activity Time\": [2, 4, 6, 8, 10, 12],\n",
    "    \"Hours Listening to Music\": [2, 3, 4, 1, 5, 0],\n",
    "    \"Water Consumed\": [5, 6, 5, 6, 4, 5],\n",
    "    \"Test Score\": [65, 70, 75, 80, 85, 90]\n",
    "}\n",
    "\n",
    "df = pd.DataFrame(data)\n",
    "df"
   ],
   "metadata": {
    "collapsed": false,
    "ExecuteTime": {
     "end_time": "2023-08-20T16:56:57.644836612Z",
     "start_time": "2023-08-20T16:56:57.391293276Z"
    }
   },
   "id": "e63bd359c22867bc"
  },
  {
   "cell_type": "markdown",
   "source": [
    "# Correlation coefficient with Test Scores"
   ],
   "metadata": {
    "collapsed": false
   },
   "id": "dff462ebb83a29d9"
  },
  {
   "cell_type": "code",
   "execution_count": 29,
   "outputs": [
    {
     "data": {
      "text/plain": "                          TestScore Correlation\nHours Studied                          1.000000\nHours Watching TV                     -0.981981\nOutdoor Activity Time                  1.000000\nHours Listening to Music              -0.200000\nWater Consumed                        -0.355036",
      "text/html": "<div>\n<style scoped>\n    .dataframe tbody tr th:only-of-type {\n        vertical-align: middle;\n    }\n\n    .dataframe tbody tr th {\n        vertical-align: top;\n    }\n\n    .dataframe thead th {\n        text-align: right;\n    }\n</style>\n<table border=\"1\" class=\"dataframe\">\n  <thead>\n    <tr style=\"text-align: right;\">\n      <th></th>\n      <th>TestScore Correlation</th>\n    </tr>\n  </thead>\n  <tbody>\n    <tr>\n      <th>Hours Studied</th>\n      <td>1.000000</td>\n    </tr>\n    <tr>\n      <th>Hours Watching TV</th>\n      <td>-0.981981</td>\n    </tr>\n    <tr>\n      <th>Outdoor Activity Time</th>\n      <td>1.000000</td>\n    </tr>\n    <tr>\n      <th>Hours Listening to Music</th>\n      <td>-0.200000</td>\n    </tr>\n    <tr>\n      <th>Water Consumed</th>\n      <td>-0.355036</td>\n    </tr>\n  </tbody>\n</table>\n</div>"
     },
     "execution_count": 29,
     "metadata": {},
     "output_type": "execute_result"
    }
   ],
   "source": [
    "corr_coeff = [correlation(df[col], df[\"Test Score\"]) for col in df.columns]\n",
    "corr_coeff_df = pd.DataFrame(corr_coeff, index=df.columns, columns=[\"TestScore Correlation\"]).drop(\"Test Score\")\n",
    "corr_coeff_df"
   ],
   "metadata": {
    "collapsed": false,
    "ExecuteTime": {
     "end_time": "2023-08-20T16:56:57.666067269Z",
     "start_time": "2023-08-20T16:56:57.423939312Z"
    }
   },
   "id": "4e9a5503c6b8e69a"
  },
  {
   "cell_type": "code",
   "execution_count": 30,
   "outputs": [
    {
     "name": "stdout",
     "output_type": "stream",
     "text": [
      "\n",
      "Positive correlation: ['Hours Studied', 'Outdoor Activity Time']\n",
      "\n",
      "Negative correlation: ['Hours Watching TV']\n",
      "\n",
      "No Significant correlation: ['Hours Listening to Music', 'Water Consumed']\n"
     ]
    }
   ],
   "source": [
    "pos, neg, nocor = [], [], []\n",
    "for index, row in corr_coeff_df.iterrows():\n",
    "    if row[\"TestScore Correlation\"] > 0.7:\n",
    "        pos.append(index)\n",
    "    elif row[\"TestScore Correlation\"] < -0.7:\n",
    "        neg.append(index)\n",
    "    else:\n",
    "        nocor.append(index)\n",
    "print('\\nPositive correlation:', pos)\n",
    "print('\\nNegative correlation:', neg)\n",
    "print('\\nNo Significant correlation:', nocor)"
   ],
   "metadata": {
    "collapsed": false,
    "ExecuteTime": {
     "end_time": "2023-08-20T16:56:57.718939212Z",
     "start_time": "2023-08-20T16:56:57.480188762Z"
    }
   },
   "id": "111104e84ba5efa5"
  },
  {
   "cell_type": "markdown",
   "source": [
    "## Hours Studied\n",
    "\n",
    "A correlation coefficient of 1.0 between \"Hours Studied\" and test scores indicates a perfect positive linear relationship between these two variables.\n",
    "\n",
    "- This means that as the number of hours studied increases, the test scores also consistently and proportionally increase.\n",
    "- In terms of academic achievement, this strong correlation suggests that dedicating more time to studying directly leads to higher test scores.\n",
    "- Additionally, this correlation does not necessarily address the effectiveness of time management; it only indicates the direct association between study hours and test scores."
   ],
   "metadata": {
    "collapsed": false
   },
   "id": "703db50d86a4e0a9"
  },
  {
   "cell_type": "code",
   "execution_count": 31,
   "outputs": [
    {
     "name": "stdout",
     "output_type": "stream",
     "text": [
      "Correlation coefficient: 1.0\n"
     ]
    }
   ],
   "source": [
    "print(\"Correlation coefficient:\", corr_coeff_df.loc[\"Hours Studied\"][0])"
   ],
   "metadata": {
    "collapsed": false,
    "ExecuteTime": {
     "end_time": "2023-08-20T16:56:57.719623573Z",
     "start_time": "2023-08-20T16:56:57.480929990Z"
    }
   },
   "id": "a83765645e1a3a7f"
  },
  {
   "cell_type": "markdown",
   "source": [
    "## Hours Watching TV\n",
    "\n",
    "A correlation coefficient of -0.98 between \"Hours Watching TV\" and test scores indicates a very strong negative linear relationship between these two variables.\n",
    "- This suggests that as the number of hours spent watching TV increases, test scores consistently and substantially decrease.\n",
    "- In terms of academic achievement, this correlation implies that excessive TV-watching is strongly associated with lower test scores. This underscores the potential negative impact of excessive screen time on studying and learning.\n",
    "- From a time management perspective, the correlation suggests that allocating more time to watching TV is linked to poorer academic outcomes, highlighting the importance of balancing leisure activities like TV-watching with dedicated study time for better academic performance."
   ],
   "metadata": {
    "collapsed": false
   },
   "id": "62d40ed1025aefce"
  },
  {
   "cell_type": "code",
   "execution_count": 32,
   "outputs": [
    {
     "name": "stdout",
     "output_type": "stream",
     "text": [
      "Correlation coefficient: -0.9819805060619659\n"
     ]
    }
   ],
   "source": [
    "print(\"Correlation coefficient:\", corr_coeff_df.loc[\"Hours Watching TV\"][0])"
   ],
   "metadata": {
    "collapsed": false,
    "ExecuteTime": {
     "end_time": "2023-08-20T16:56:57.720213203Z",
     "start_time": "2023-08-20T16:56:57.481580015Z"
    }
   },
   "id": "6ba79a9f81c1f0d3"
  },
  {
   "cell_type": "markdown",
   "source": [
    "## Hours Listening to Music\n",
    "\n",
    "A correlation of -0.2 between \"Hours Listening to Music\" and test scores suggests a minor negative link. While more music listening slightly associates with lower test scores, the effect is weak.\n",
    "- This correlation hints that music might impact concentration and study habits to some extent, but the significance varies based on individual preferences and task types.\n",
    "- Students should consider how music affects their focus and adapt their study strategies accordingly."
   ],
   "metadata": {
    "collapsed": false
   },
   "id": "1cbc0eb93b669b40"
  },
  {
   "cell_type": "code",
   "execution_count": 33,
   "outputs": [
    {
     "name": "stdout",
     "output_type": "stream",
     "text": [
      "Correlation coefficient: -0.2\n"
     ]
    }
   ],
   "source": [
    "print(\"Correlation coefficient:\", corr_coeff_df.loc[\"Hours Listening to Music\"][0])"
   ],
   "metadata": {
    "collapsed": false,
    "ExecuteTime": {
     "end_time": "2023-08-20T16:56:57.721025126Z",
     "start_time": "2023-08-20T16:56:57.482275847Z"
    }
   },
   "id": "73d04dd0eca81277"
  },
  {
   "cell_type": "markdown",
   "source": [
    "## Water Consumed\n",
    "\n",
    "A correlation of -0.35 between \"Water Consumed\" and test scores suggests a moderate negative link.\n",
    "- This might be due to excessive water intake causing study disruptions.\n",
    "- While hydration is crucial for cognitive function, managing water consumption is important to avoid distractions during studying and tests."
   ],
   "metadata": {
    "collapsed": false
   },
   "id": "1d81a86970254742"
  },
  {
   "cell_type": "code",
   "execution_count": 34,
   "outputs": [
    {
     "name": "stdout",
     "output_type": "stream",
     "text": [
      "Correlation coefficient: -0.35503580124836315\n"
     ]
    }
   ],
   "source": [
    "print(\"Correlation coefficient:\", corr_coeff_df.loc[\"Water Consumed\"][0])"
   ],
   "metadata": {
    "collapsed": false,
    "ExecuteTime": {
     "end_time": "2023-08-20T16:56:57.721518473Z",
     "start_time": "2023-08-20T16:56:57.521471797Z"
    }
   },
   "id": "ea1fe5d488e97298"
  },
  {
   "cell_type": "markdown",
   "source": [
    "## Outdoor Activity Time\n",
    "\n",
    "A correlation of 1.0 between \"Outdoor Activity Time\" and test scores indicates a perfect positive link.\n",
    "- Outdoor activities can positively impact academic performance by enhancing cognitive function, memory, and reducing stress.\n",
    "- Regular outdoor engagement can lead to better learning and test-taking outcomes."
   ],
   "metadata": {
    "collapsed": false
   },
   "id": "63a798761caddf60"
  },
  {
   "cell_type": "code",
   "execution_count": 35,
   "outputs": [
    {
     "name": "stdout",
     "output_type": "stream",
     "text": [
      "Correlation coefficient: 1.0\n"
     ]
    }
   ],
   "source": [
    "print(\"Correlation coefficient:\", corr_coeff_df.loc[\"Outdoor Activity Time\"][0])"
   ],
   "metadata": {
    "collapsed": false,
    "ExecuteTime": {
     "end_time": "2023-08-20T16:56:57.722050253Z",
     "start_time": "2023-08-20T16:56:57.522005281Z"
    }
   },
   "id": "c4e7c72236329be6"
  }
 ],
 "metadata": {
  "kernelspec": {
   "display_name": "Python 3",
   "language": "python",
   "name": "python3"
  },
  "language_info": {
   "codemirror_mode": {
    "name": "ipython",
    "version": 2
   },
   "file_extension": ".py",
   "mimetype": "text/x-python",
   "name": "python",
   "nbconvert_exporter": "python",
   "pygments_lexer": "ipython2",
   "version": "2.7.6"
  }
 },
 "nbformat": 4,
 "nbformat_minor": 5
}
