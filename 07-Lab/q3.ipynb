{
 "cells": [
  {
   "cell_type": "code",
   "execution_count": 1,
   "id": "initial_id",
   "metadata": {
    "collapsed": true,
    "ExecuteTime": {
     "end_time": "2023-09-26T18:36:21.925150565Z",
     "start_time": "2023-09-26T18:36:20.997816409Z"
    }
   },
   "outputs": [],
   "source": [
    "import numpy as np\n",
    "import sympy as sp\n",
    "import matplotlib.pyplot as plt\n",
    "from dataclasses import dataclass"
   ]
  },
  {
   "cell_type": "code",
   "execution_count": 2,
   "outputs": [],
   "source": [
    "@dataclass\n",
    "class DiscriminantFunction:\n",
    "    A: np.ndarray\n",
    "    B: np.ndarray\n",
    "    C: float\n",
    "    \n",
    "    def __call__(self, x: np.ndarray):\n",
    "        return x.T.dot(self.A).dot(x) + self.B.T.dot(x) + self.C\n",
    "    \n",
    "    def __str__(self):\n",
    "        x1, x2 = sp.symbols('x1 x2')\n",
    "        X = sp.Matrix([x1, x2])\n",
    "        A = sp.Matrix(self.A)\n",
    "        B = sp.Matrix(self.B)\n",
    "        C = self.C\n",
    "        Xt_A_X = sp.det(X.T @ A @ X)\n",
    "        Bt_X = sp.det(B.T @ X)\n",
    "        return str(Xt_A_X + Bt_X + C).replace('**', '^')"
   ],
   "metadata": {
    "collapsed": false,
    "ExecuteTime": {
     "end_time": "2023-09-26T18:36:21.934264473Z",
     "start_time": "2023-09-26T18:36:21.932074Z"
    }
   },
   "id": "a7821e952ec0a22b"
  },
  {
   "cell_type": "code",
   "execution_count": 3,
   "outputs": [],
   "source": [
    "def g_of_x(X: np.ndarray, prob: float):\n",
    "    X_mean = X.mean(axis=0)\n",
    "    X_cov = cov(X)\n",
    "    X_cov_inv = np.linalg.inv(X_cov)\n",
    "    X_cov_det = np.linalg.det(X_cov)\n",
    "    \n",
    "    A = -0.5 * X_cov_inv\n",
    "    B = X_cov_inv.dot(X_mean)\n",
    "    C = -0.5 * X_mean.T.dot(X_cov_inv).dot(X_mean) - 0.5 * np.log(X_cov_det) + np.log(prob)\n",
    "    return DiscriminantFunction(A, B, C)"
   ],
   "metadata": {
    "collapsed": false,
    "ExecuteTime": {
     "end_time": "2023-09-26T18:36:21.945594152Z",
     "start_time": "2023-09-26T18:36:21.937046164Z"
    }
   },
   "id": "559aa752ac68d484"
  },
  {
   "cell_type": "code",
   "execution_count": 4,
   "outputs": [],
   "source": [
    "def cov(X: np.ndarray):\n",
    "    X = X - X.mean(axis=0)\n",
    "    return np.dot(X.T, X) / (X.shape[0]-1)"
   ],
   "metadata": {
    "collapsed": false,
    "ExecuteTime": {
     "end_time": "2023-09-26T18:36:21.954657365Z",
     "start_time": "2023-09-26T18:36:21.949033257Z"
    }
   },
   "id": "5e89de1407ad903a"
  },
  {
   "cell_type": "code",
   "execution_count": 5,
   "outputs": [],
   "source": [
    "def discriminant_plot(g1, g2):\n",
    "    x = np.linspace(-10, 10, 100)\n",
    "    y = np.linspace(-10, 10, 100)\n",
    "    X, Y = np.meshgrid(x, y)\n",
    "    Z = np.zeros_like(X)\n",
    "    for i in range(X.shape[0]):\n",
    "        for j in range(X.shape[1]):\n",
    "            Z[i, j] = g1(np.array([X[i, j], Y[i, j]])) - g2(np.array([X[i, j], Y[i, j]]))\n",
    "    plt.contour(X, Y, Z, levels=[0])\n",
    "    plt.axis([0, 6, -6, 10]) # Zoom axis to [xmin, xmax, ymin, ymax]"
   ],
   "metadata": {
    "collapsed": false,
    "ExecuteTime": {
     "end_time": "2023-09-26T18:36:21.964420150Z",
     "start_time": "2023-09-26T18:36:21.958150882Z"
    }
   },
   "id": "fb7899c8187233a4"
  },
  {
   "cell_type": "code",
   "execution_count": 6,
   "outputs": [
    {
     "name": "stdout",
     "output_type": "stream",
     "text": [
      "w1: [[2 6]\n",
      " [3 4]\n",
      " [3 8]\n",
      " [4 6]]\n",
      "w2: [[ 3  0]\n",
      " [ 1 -2]\n",
      " [ 3 -4]\n",
      " [ 5 -2]]\n"
     ]
    }
   ],
   "source": [
    "w1 = np.array([\n",
    "    [2, 6],\n",
    "    [3, 4],\n",
    "    [3, 8],\n",
    "    [4, 6]\n",
    "])\n",
    "w2 = np.array([\n",
    "    [3, 0],\n",
    "    [1, -2],\n",
    "    [3, -4],\n",
    "    [5, -2]\n",
    "])\n",
    "print(f\"w1: {w1}\")\n",
    "print(f\"w2: {w2}\")"
   ],
   "metadata": {
    "collapsed": false,
    "ExecuteTime": {
     "end_time": "2023-09-26T18:36:22.009763382Z",
     "start_time": "2023-09-26T18:36:21.966638295Z"
    }
   },
   "id": "9af24b5869234549"
  },
  {
   "cell_type": "code",
   "execution_count": 7,
   "outputs": [
    {
     "name": "stdout",
     "output_type": "stream",
     "text": [
      "g1(x) = -0.75*x1^2 + 4.5*x1 - 0.1875*x2^2 + 2.25*x2 - 14.4808292530117\n",
      "g2(x) = -0.1875*x1^2 + 1.125*x1 - 0.1875*x2^2 - 0.75*x2 - 4.11147643357167\n"
     ]
    }
   ],
   "source": [
    "g1 = g_of_x(w1, 0.5)\n",
    "g2 = g_of_x(w2, 0.5)\n",
    "print(f\"g1(x) = {g1}\")\n",
    "print(f\"g2(x) = {g2}\")"
   ],
   "metadata": {
    "collapsed": false,
    "ExecuteTime": {
     "end_time": "2023-09-26T18:36:22.082144865Z",
     "start_time": "2023-09-26T18:36:22.008912152Z"
    }
   },
   "id": "2c04ae30f647f597"
  },
  {
   "cell_type": "code",
   "execution_count": 8,
   "outputs": [
    {
     "data": {
      "text/plain": "<Figure size 640x480 with 1 Axes>",
      "image/png": "[encoded data removed]"
     },
     "metadata": {},
     "output_type": "display_data"
    }
   ],
   "source": [
    "discriminant_plot(g1, g2)\n",
    "plt.scatter(w1[:, 0], w1[:, 1], c='r')\n",
    "plt.scatter(w2[:, 0], w2[:, 1], c='b')\n",
    "plt.legend(['w1', 'w2'])\n",
    "plt.show()"
   ],
   "metadata": {
    "collapsed": false,
    "ExecuteTime": {
     "end_time": "2023-09-26T18:36:22.367537519Z",
     "start_time": "2023-09-26T18:36:22.082381012Z"
    }
   },
   "id": "575bbdbd89599d54"
  },
  {
   "cell_type": "code",
   "execution_count": 8,
   "outputs": [],
   "source": [],
   "metadata": {
    "collapsed": false,
    "ExecuteTime": {
     "end_time": "2023-09-26T18:36:22.448504070Z",
     "start_time": "2023-09-26T18:36:22.368184403Z"
    }
   },
   "id": "24869b6d9e170c24"
  }
 ],
 "metadata": {
  "kernelspec": {
   "display_name": "Python 3",
   "language": "python",
   "name": "python3"
  },
  "language_info": {
   "codemirror_mode": {
    "name": "ipython",
    "version": 2
   },
   "file_extension": ".py",
   "mimetype": "text/x-python",
   "name": "python",
   "nbconvert_exporter": "python",
   "pygments_lexer": "ipython2",
   "version": "2.7.6"
  }
 },
 "nbformat": 4,
 "nbformat_minor": 5
}
