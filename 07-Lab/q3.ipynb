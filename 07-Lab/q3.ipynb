{
 "cells": [
  {
   "cell_type": "code",
   "execution_count": 1,
   "id": "initial_id",
   "metadata": {
    "collapsed": true,
    "ExecuteTime": {
     "end_time": "2023-09-26T16:10:25.157289216Z",
     "start_time": "2023-09-26T16:10:24.865105542Z"
    }
   },
   "outputs": [],
   "source": [
    "import numpy as np\n",
    "import matplotlib.pyplot as plt"
   ]
  },
  {
   "cell_type": "code",
   "execution_count": 2,
   "outputs": [],
   "source": [
    "def g_of_x(X: np.ndarray, prob: float):\n",
    "    X_mean = X.mean(axis=0)\n",
    "    X_cov = cov(X)\n",
    "    X_cov_inv = np.linalg.inv(X_cov)\n",
    "    X_cov_det = np.linalg.det(X_cov)\n",
    "    \n",
    "    A = -0.5 * X_cov_inv\n",
    "    B = X_cov_inv.dot(X_mean)\n",
    "    C = -0.5 * X_mean.T.dot(X_cov_inv).dot(X_mean) - 0.5 * np.log(X_cov_det) + np.log(prob)\n",
    "    return lambda x: x.T.dot(A).dot(x) + B.T.dot(x) + C"
   ],
   "metadata": {
    "collapsed": false,
    "ExecuteTime": {
     "end_time": "2023-09-26T16:10:25.168645032Z",
     "start_time": "2023-09-26T16:10:25.162457724Z"
    }
   },
   "id": "559aa752ac68d484"
  },
  {
   "cell_type": "code",
   "execution_count": 3,
   "outputs": [],
   "source": [
    "def cov(X: np.ndarray):\n",
    "    X = X - X.mean(axis=0)\n",
    "    return np.dot(X.T, X) / (X.shape[0]-1)"
   ],
   "metadata": {
    "collapsed": false,
    "ExecuteTime": {
     "end_time": "2023-09-26T16:10:25.179244262Z",
     "start_time": "2023-09-26T16:10:25.167702646Z"
    }
   },
   "id": "5e89de1407ad903a"
  },
  {
   "cell_type": "code",
   "execution_count": 4,
   "outputs": [],
   "source": [
    "def discriminant_plot(g1, g2):\n",
    "    x = np.linspace(-10, 10, 100)\n",
    "    y = np.linspace(-10, 10, 100)\n",
    "    X, Y = np.meshgrid(x, y)\n",
    "    Z = np.zeros_like(X)\n",
    "    for i in range(X.shape[0]):\n",
    "        for j in range(X.shape[1]):\n",
    "            Z[i, j] = g1(np.array([X[i, j], Y[i, j]])) - g2(np.array([X[i, j], Y[i, j]]))\n",
    "    plt.contour(X, Y, Z, levels=[0])\n",
    "    plt.axis([0, 6, -6, 10]) # Zoom axis to [xmin, xmax, ymin, ymax]"
   ],
   "metadata": {
    "collapsed": false,
    "ExecuteTime": {
     "end_time": "2023-09-26T16:10:25.203575605Z",
     "start_time": "2023-09-26T16:10:25.180403235Z"
    }
   },
   "id": "fb7899c8187233a4"
  },
  {
   "cell_type": "code",
   "execution_count": 5,
   "outputs": [
    {
     "name": "stdout",
     "output_type": "stream",
     "text": [
      "w1: [[2 6]\n",
      " [3 4]\n",
      " [3 8]\n",
      " [4 6]]\n",
      "w2: [[ 3  0]\n",
      " [ 1 -2]\n",
      " [ 3 -4]\n",
      " [ 5 -2]]\n"
     ]
    }
   ],
   "source": [
    "w1 = np.array([\n",
    "    [2, 6],\n",
    "    [3, 4],\n",
    "    [3, 8],\n",
    "    [4, 6]\n",
    "])\n",
    "w2 = np.array([\n",
    "    [3, 0],\n",
    "    [1, -2],\n",
    "    [3, -4],\n",
    "    [5, -2]\n",
    "])\n",
    "print(f\"w1: {w1}\")\n",
    "print(f\"w2: {w2}\")"
   ],
   "metadata": {
    "collapsed": false,
    "ExecuteTime": {
     "end_time": "2023-09-26T16:10:25.233008870Z",
     "start_time": "2023-09-26T16:10:25.193273364Z"
    }
   },
   "id": "9af24b5869234549"
  },
  {
   "cell_type": "code",
   "execution_count": 6,
   "outputs": [],
   "source": [
    "g1 = g_of_x(w1, 0.5)\n",
    "g2 = g_of_x(w2, 0.5)"
   ],
   "metadata": {
    "collapsed": false,
    "ExecuteTime": {
     "end_time": "2023-09-26T16:10:36.750605184Z",
     "start_time": "2023-09-26T16:10:36.727812368Z"
    }
   },
   "id": "2c04ae30f647f597"
  },
  {
   "cell_type": "code",
   "execution_count": 8,
   "outputs": [
    {
     "data": {
      "text/plain": "<Figure size 640x480 with 1 Axes>",
      "image/png": "[encoded data removed]"
     },
     "metadata": {},
     "output_type": "display_data"
    }
   ],
   "source": [
    "discriminant_plot(g1, g2)\n",
    "plt.scatter(w1[:, 0], w1[:, 1], c='r')\n",
    "plt.scatter(w2[:, 0], w2[:, 1], c='b')\n",
    "plt.show()"
   ],
   "metadata": {
    "collapsed": false,
    "ExecuteTime": {
     "end_time": "2023-09-26T16:10:53.204957859Z",
     "start_time": "2023-09-26T16:10:53.045640012Z"
    }
   },
   "id": "575bbdbd89599d54"
  },
  {
   "cell_type": "code",
   "execution_count": null,
   "outputs": [],
   "source": [],
   "metadata": {
    "collapsed": false
   },
   "id": "24869b6d9e170c24"
  }
 ],
 "metadata": {
  "kernelspec": {
   "display_name": "Python 3",
   "language": "python",
   "name": "python3"
  },
  "language_info": {
   "codemirror_mode": {
    "name": "ipython",
    "version": 2
   },
   "file_extension": ".py",
   "mimetype": "text/x-python",
   "name": "python",
   "nbconvert_exporter": "python",
   "pygments_lexer": "ipython2",
   "version": "2.7.6"
  }
 },
 "nbformat": 4,
 "nbformat_minor": 5
}
