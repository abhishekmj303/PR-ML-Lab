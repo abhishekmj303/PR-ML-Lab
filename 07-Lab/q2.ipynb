{
 "cells": [
  {
   "cell_type": "code",
   "execution_count": 10,
   "id": "initial_id",
   "metadata": {
    "collapsed": true,
    "ExecuteTime": {
     "end_time": "2023-09-27T17:29:40.671181932Z",
     "start_time": "2023-09-27T17:29:40.621793444Z"
    }
   },
   "outputs": [],
   "source": [
    "import numpy as np\n",
    "import sympy as sp\n",
    "import matplotlib.pyplot as plt\n",
    "from dataclasses import dataclass"
   ]
  },
  {
   "cell_type": "code",
   "execution_count": 11,
   "outputs": [],
   "source": [
    "@dataclass\n",
    "class DiscriminantFunction:\n",
    "    A: np.ndarray\n",
    "    B: np.ndarray\n",
    "    C: float\n",
    "    \n",
    "    def __call__(self, x: np.ndarray):\n",
    "        return x.T.dot(self.A).dot(x) + self.B.T.dot(x) + self.C\n",
    "    \n",
    "    def __str__(self):\n",
    "        x1, x2 = sp.symbols('x1 x2')\n",
    "        X = sp.Matrix([x1, x2])\n",
    "        A = sp.Matrix(self.A)\n",
    "        B = sp.Matrix(self.B)\n",
    "        C = self.C\n",
    "        Xt_A_X = sp.det(X.T @ A @ X)\n",
    "        Bt_X = sp.det(B.T @ X)\n",
    "        return str(Xt_A_X + Bt_X + C).replace('**', '^')"
   ],
   "metadata": {
    "collapsed": false,
    "ExecuteTime": {
     "end_time": "2023-09-27T17:29:40.671413514Z",
     "start_time": "2023-09-27T17:29:40.663122301Z"
    }
   },
   "id": "c1ed8dbd12e3c051"
  },
  {
   "cell_type": "code",
   "execution_count": 12,
   "outputs": [],
   "source": [
    "def g_of_x(X: np.ndarray, prob: float, case: int = 3):\n",
    "    X_mean = X.mean(axis=0)\n",
    "    X_cov = cov(X)\n",
    "    X_cov_inv = np.linalg.inv(X_cov)\n",
    "    X_cov_det = np.linalg.det(X_cov)\n",
    "    \n",
    "    if case == 1:\n",
    "        sigma_sq = X_cov[0, 0]\n",
    "        A = np.zeros_like(X_cov_inv)\n",
    "        B = X_mean.T / sigma_sq\n",
    "        C = -0.5 * X_mean.T.dot(X_mean) / sigma_sq + np.log(prob)\n",
    "    elif case == 2:\n",
    "        A = np.zeros_like(X_cov_inv)\n",
    "        B = X_cov_inv.dot(X_mean)\n",
    "        C = -0.5 * X_mean.T.dot(X_cov_inv).dot(X_mean) + np.log(prob)\n",
    "    elif case == 3:\n",
    "        A = -0.5 * X_cov_inv\n",
    "        B = X_cov_inv.dot(X_mean)\n",
    "        C = -0.5 * X_mean.T.dot(X_cov_inv).dot(X_mean) - 0.5 * np.log(X_cov_det) + np.log(prob)\n",
    "    \n",
    "    return DiscriminantFunction(A, B, C)"
   ],
   "metadata": {
    "collapsed": false,
    "ExecuteTime": {
     "end_time": "2023-09-27T17:29:40.671513208Z",
     "start_time": "2023-09-27T17:29:40.663494346Z"
    }
   },
   "id": "6e54530342c36647"
  },
  {
   "cell_type": "code",
   "execution_count": 13,
   "outputs": [],
   "source": [
    "def find_case(w1, w2):\n",
    "    cov_w1, cov_w2 = cov(w1), cov(w2)\n",
    "    if (cov_w1 == cov_w2).all():\n",
    "        identity = np.identity(w1.shape[1])\n",
    "        if ((cov_w1[0, 0] * identity) == cov_w1).all():\n",
    "            return 1\n",
    "        else:\n",
    "            return 2\n",
    "    else:\n",
    "        return 3"
   ],
   "metadata": {
    "collapsed": false,
    "ExecuteTime": {
     "end_time": "2023-09-27T17:29:40.671612151Z",
     "start_time": "2023-09-27T17:29:40.663689106Z"
    }
   },
   "id": "26e826049bf1e74e"
  },
  {
   "cell_type": "code",
   "execution_count": 14,
   "outputs": [],
   "source": [
    "def cov(X: np.ndarray):\n",
    "    X = X - X.mean(axis=0)\n",
    "    return np.dot(X.T, X) / (X.shape[0]-1)"
   ],
   "metadata": {
    "collapsed": false,
    "ExecuteTime": {
     "end_time": "2023-09-27T17:29:40.671684572Z",
     "start_time": "2023-09-27T17:29:40.663797177Z"
    }
   },
   "id": "9d9df15bdcba87c7"
  },
  {
   "cell_type": "code",
   "execution_count": 15,
   "outputs": [],
   "source": [
    "def discriminant_plot(g1, g2):\n",
    "    x = np.linspace(-10, 10, 100)\n",
    "    y = np.linspace(-20, 20, 100)\n",
    "    X, Y = np.meshgrid(x, y)\n",
    "    Z = np.zeros_like(X)\n",
    "    for i in range(X.shape[0]):\n",
    "        for j in range(X.shape[1]):\n",
    "            Z[i, j] = g1(np.array([X[i, j], Y[i, j]])) - g2(np.array([X[i, j], Y[i, j]]))\n",
    "    plt.contour(X, Y, Z, levels=[0])"
   ],
   "metadata": {
    "collapsed": false,
    "ExecuteTime": {
     "end_time": "2023-09-27T17:29:40.671755471Z",
     "start_time": "2023-09-27T17:29:40.663877033Z"
    }
   },
   "id": "49d88f99ccefaa3c"
  },
  {
   "cell_type": "code",
   "execution_count": 16,
   "outputs": [
    {
     "name": "stdout",
     "output_type": "stream",
     "text": [
      "w1: [[  1  -1]\n",
      " [  2  -5]\n",
      " [  3  -6]\n",
      " [  4 -10]\n",
      " [  5 -12]\n",
      " [  6 -15]]\n",
      "w2: [[-1  1]\n",
      " [-2  5]\n",
      " [-3  6]\n",
      " [-4 10]\n",
      " [-5 12]\n",
      " [-6 15]]\n"
     ]
    }
   ],
   "source": [
    "w1 = np.array([\n",
    "    [1, -1],\n",
    "    [2, -5],\n",
    "    [3, -6],\n",
    "    [4, -10],\n",
    "    [5, -12],\n",
    "    [6, -15]\n",
    "])\n",
    "w2 = np.array([\n",
    "    [-1, 1],\n",
    "    [-2, 5],\n",
    "    [-3, 6],\n",
    "    [-4, 10],\n",
    "    [-5, 12],\n",
    "    [-6, 15]\n",
    "])\n",
    "print(f\"w1: {w1}\")\n",
    "print(f\"w2: {w2}\")"
   ],
   "metadata": {
    "collapsed": false,
    "ExecuteTime": {
     "end_time": "2023-09-27T17:29:40.672011660Z",
     "start_time": "2023-09-27T17:29:40.664482454Z"
    }
   },
   "id": "15d6f8339b4e3701"
  },
  {
   "cell_type": "code",
   "execution_count": 17,
   "outputs": [
    {
     "name": "stdout",
     "output_type": "stream",
     "text": [
      "Case 2\n",
      "g1(x) = 10.5000000000001*x1 + 3.50000000000004*x2 - 5.28730613765931\n",
      "g2(x) = -10.5000000000001*x1 - 3.50000000000004*x2 - 4.44000827727211\n"
     ]
    }
   ],
   "source": [
    "current_case = find_case(w1, w2)\n",
    "print(f\"Case {current_case}\")\n",
    "g1 = g_of_x(w1, prob=0.3, case=current_case)\n",
    "g2 = g_of_x(w2, prob=0.7, case=current_case)\n",
    "print(f\"g1(x) = {g1}\")\n",
    "print(f\"g2(x) = {g2}\")"
   ],
   "metadata": {
    "collapsed": false,
    "ExecuteTime": {
     "end_time": "2023-09-27T17:29:40.718420867Z",
     "start_time": "2023-09-27T17:29:40.672228784Z"
    }
   },
   "id": "102f92c9e9aef213"
  },
  {
   "cell_type": "code",
   "execution_count": 18,
   "outputs": [
    {
     "data": {
      "text/plain": "<Figure size 640x480 with 1 Axes>",
      "image/png": "[encoded data removed]"
     },
     "metadata": {},
     "output_type": "display_data"
    }
   ],
   "source": [
    "discriminant_plot(g1, g2)\n",
    "plt.scatter(w1[:, 0], w1[:, 1], c='r')\n",
    "plt.scatter(w2[:, 0], w2[:, 1], c='b')\n",
    "plt.legend(['w1', 'w2'])\n",
    "plt.show()"
   ],
   "metadata": {
    "collapsed": false,
    "ExecuteTime": {
     "end_time": "2023-09-27T17:29:40.938911889Z",
     "start_time": "2023-09-27T17:29:40.685195357Z"
    }
   },
   "id": "5cd0c5abefde7a7f"
  },
  {
   "cell_type": "code",
   "execution_count": 18,
   "outputs": [],
   "source": [],
   "metadata": {
    "collapsed": false,
    "ExecuteTime": {
     "end_time": "2023-09-27T17:29:40.939141287Z",
     "start_time": "2023-09-27T17:29:40.924792558Z"
    }
   },
   "id": "f6be1281bd87f586"
  }
 ],
 "metadata": {
  "kernelspec": {
   "display_name": "Python 3",
   "language": "python",
   "name": "python3"
  },
  "language_info": {
   "codemirror_mode": {
    "name": "ipython",
    "version": 2
   },
   "file_extension": ".py",
   "mimetype": "text/x-python",
   "name": "python",
   "nbconvert_exporter": "python",
   "pygments_lexer": "ipython2",
   "version": "2.7.6"
  }
 },
 "nbformat": 4,
 "nbformat_minor": 5
}
