{
 "cells": [
  {
   "cell_type": "code",
   "execution_count": 18,
   "metadata": {
    "collapsed": true,
    "ExecuteTime": {
     "end_time": "2023-08-09T18:12:15.640907969Z",
     "start_time": "2023-08-09T18:12:15.630114741Z"
    }
   },
   "outputs": [],
   "source": [
    "import numpy as np\n",
    "import pandas as pd\n",
    "import matplotlib.pyplot as plt\n",
    "import seaborn as sns"
   ]
  },
  {
   "cell_type": "markdown",
   "source": [
    "## Correlation\n",
    "The function `correlation` computes the correlation coefficient between two columns `col1` and `col2` in a dataset `data`. It quantifies the strength and direction of their linear relationship using means, standard deviations, and the covariance of their deviations from the means."
   ],
   "metadata": {
    "collapsed": false
   }
  },
  {
   "cell_type": "code",
   "execution_count": 19,
   "outputs": [],
   "source": [
    "def correlation(data, col1, col2):\n",
    "    x = data[col1]\n",
    "    y = data[col2]\n",
    "    x_mean = np.mean(x)\n",
    "    y_mean = np.mean(y)\n",
    "    x_std = np.std(x)\n",
    "    y_std = np.std(y)\n",
    "    n = len(x)\n",
    "    return np.sum((x - x_mean) * (y - y_mean)) / (n * x_std * y_std)"
   ],
   "metadata": {
    "collapsed": false,
    "ExecuteTime": {
     "end_time": "2023-08-09T18:12:15.699058810Z",
     "start_time": "2023-08-09T18:12:15.635449785Z"
    }
   }
  },
  {
   "cell_type": "markdown",
   "source": [
    "## Correlation matrix\n",
    "The function `corr_matrix` computes a correlation matrix for a dataset, where each cell contains the Pearson correlation coefficient between pairs of columns. It iterates through all column pairs, calculating correlations using the `correlation` function, and returns a DataFrame with column and row labels representing column names and the computed correlations."
   ],
   "metadata": {
    "collapsed": false
   }
  },
  {
   "cell_type": "code",
   "execution_count": 20,
   "outputs": [],
   "source": [
    "def corr_matrix(data):\n",
    "    n = len(data.columns)\n",
    "    corr = np.zeros((n, n))\n",
    "    for i in range(n):\n",
    "        for j in range(n):\n",
    "            corr[i, j] = correlation(data, data.columns[i], data.columns[j])\n",
    "    return pd.DataFrame(corr, columns=data.columns, index=data.columns)"
   ],
   "metadata": {
    "collapsed": false,
    "ExecuteTime": {
     "end_time": "2023-08-09T18:12:15.699427198Z",
     "start_time": "2023-08-09T18:12:15.680372727Z"
    }
   }
  },
  {
   "cell_type": "markdown",
   "source": [
    "## Load"
   ],
   "metadata": {
    "collapsed": false
   }
  },
  {
   "cell_type": "code",
   "execution_count": 21,
   "outputs": [
    {
     "data": {
      "text/plain": "     SepalLengthCm  SepalWidthCm  PetalLengthCm  PetalWidthCm         Species\n0              5.1           3.5            1.4           0.2     Iris-setosa\n1              4.9           3.0            1.4           0.2     Iris-setosa\n2              4.7           3.2            1.3           0.2     Iris-setosa\n3              4.6           3.1            1.5           0.2     Iris-setosa\n4              5.0           3.6            1.4           0.2     Iris-setosa\n..             ...           ...            ...           ...             ...\n145            6.7           3.0            5.2           2.3  Iris-virginica\n146            6.3           2.5            5.0           1.9  Iris-virginica\n147            6.5           3.0            5.2           2.0  Iris-virginica\n148            6.2           3.4            5.4           2.3  Iris-virginica\n149            5.9           3.0            5.1           1.8  Iris-virginica\n\n[150 rows x 5 columns]",
      "text/html": "<div>\n<style scoped>\n    .dataframe tbody tr th:only-of-type {\n        vertical-align: middle;\n    }\n\n    .dataframe tbody tr th {\n        vertical-align: top;\n    }\n\n    .dataframe thead th {\n        text-align: right;\n    }\n</style>\n<table border=\"1\" class=\"dataframe\">\n  <thead>\n    <tr style=\"text-align: right;\">\n      <th></th>\n      <th>SepalLengthCm</th>\n      <th>SepalWidthCm</th>\n      <th>PetalLengthCm</th>\n      <th>PetalWidthCm</th>\n      <th>Species</th>\n    </tr>\n  </thead>\n  <tbody>\n    <tr>\n      <th>0</th>\n      <td>5.1</td>\n      <td>3.5</td>\n      <td>1.4</td>\n      <td>0.2</td>\n      <td>Iris-setosa</td>\n    </tr>\n    <tr>\n      <th>1</th>\n      <td>4.9</td>\n      <td>3.0</td>\n      <td>1.4</td>\n      <td>0.2</td>\n      <td>Iris-setosa</td>\n    </tr>\n    <tr>\n      <th>2</th>\n      <td>4.7</td>\n      <td>3.2</td>\n      <td>1.3</td>\n      <td>0.2</td>\n      <td>Iris-setosa</td>\n    </tr>\n    <tr>\n      <th>3</th>\n      <td>4.6</td>\n      <td>3.1</td>\n      <td>1.5</td>\n      <td>0.2</td>\n      <td>Iris-setosa</td>\n    </tr>\n    <tr>\n      <th>4</th>\n      <td>5.0</td>\n      <td>3.6</td>\n      <td>1.4</td>\n      <td>0.2</td>\n      <td>Iris-setosa</td>\n    </tr>\n    <tr>\n      <th>...</th>\n      <td>...</td>\n      <td>...</td>\n      <td>...</td>\n      <td>...</td>\n      <td>...</td>\n    </tr>\n    <tr>\n      <th>145</th>\n      <td>6.7</td>\n      <td>3.0</td>\n      <td>5.2</td>\n      <td>2.3</td>\n      <td>Iris-virginica</td>\n    </tr>\n    <tr>\n      <th>146</th>\n      <td>6.3</td>\n      <td>2.5</td>\n      <td>5.0</td>\n      <td>1.9</td>\n      <td>Iris-virginica</td>\n    </tr>\n    <tr>\n      <th>147</th>\n      <td>6.5</td>\n      <td>3.0</td>\n      <td>5.2</td>\n      <td>2.0</td>\n      <td>Iris-virginica</td>\n    </tr>\n    <tr>\n      <th>148</th>\n      <td>6.2</td>\n      <td>3.4</td>\n      <td>5.4</td>\n      <td>2.3</td>\n      <td>Iris-virginica</td>\n    </tr>\n    <tr>\n      <th>149</th>\n      <td>5.9</td>\n      <td>3.0</td>\n      <td>5.1</td>\n      <td>1.8</td>\n      <td>Iris-virginica</td>\n    </tr>\n  </tbody>\n</table>\n<p>150 rows × 5 columns</p>\n</div>"
     },
     "execution_count": 21,
     "metadata": {},
     "output_type": "execute_result"
    }
   ],
   "source": [
    "iris_df = pd.read_csv('iris.csv').drop('Id', axis=1)\n",
    "iris_df"
   ],
   "metadata": {
    "collapsed": false,
    "ExecuteTime": {
     "end_time": "2023-08-09T18:12:15.699798813Z",
     "start_time": "2023-08-09T18:12:15.680633855Z"
    }
   }
  },
  {
   "cell_type": "markdown",
   "source": [
    "Consider only the features of the dataset, and compute the correlation matrix."
   ],
   "metadata": {
    "collapsed": false
   }
  },
  {
   "cell_type": "code",
   "execution_count": 22,
   "outputs": [
    {
     "data": {
      "text/plain": "   SepalLengthCm  SepalWidthCm  PetalLengthCm  PetalWidthCm\n0            5.1           3.5            1.4           0.2\n1            4.9           3.0            1.4           0.2\n2            4.7           3.2            1.3           0.2\n3            4.6           3.1            1.5           0.2\n4            5.0           3.6            1.4           0.2",
      "text/html": "<div>\n<style scoped>\n    .dataframe tbody tr th:only-of-type {\n        vertical-align: middle;\n    }\n\n    .dataframe tbody tr th {\n        vertical-align: top;\n    }\n\n    .dataframe thead th {\n        text-align: right;\n    }\n</style>\n<table border=\"1\" class=\"dataframe\">\n  <thead>\n    <tr style=\"text-align: right;\">\n      <th></th>\n      <th>SepalLengthCm</th>\n      <th>SepalWidthCm</th>\n      <th>PetalLengthCm</th>\n      <th>PetalWidthCm</th>\n    </tr>\n  </thead>\n  <tbody>\n    <tr>\n      <th>0</th>\n      <td>5.1</td>\n      <td>3.5</td>\n      <td>1.4</td>\n      <td>0.2</td>\n    </tr>\n    <tr>\n      <th>1</th>\n      <td>4.9</td>\n      <td>3.0</td>\n      <td>1.4</td>\n      <td>0.2</td>\n    </tr>\n    <tr>\n      <th>2</th>\n      <td>4.7</td>\n      <td>3.2</td>\n      <td>1.3</td>\n      <td>0.2</td>\n    </tr>\n    <tr>\n      <th>3</th>\n      <td>4.6</td>\n      <td>3.1</td>\n      <td>1.5</td>\n      <td>0.2</td>\n    </tr>\n    <tr>\n      <th>4</th>\n      <td>5.0</td>\n      <td>3.6</td>\n      <td>1.4</td>\n      <td>0.2</td>\n    </tr>\n  </tbody>\n</table>\n</div>"
     },
     "execution_count": 22,
     "metadata": {},
     "output_type": "execute_result"
    }
   ],
   "source": [
    "features = iris_df.columns[:-1]\n",
    "iris_req_df = iris_df[features]\n",
    "iris_req_df.head()"
   ],
   "metadata": {
    "collapsed": false,
    "ExecuteTime": {
     "end_time": "2023-08-09T18:12:15.749042382Z",
     "start_time": "2023-08-09T18:12:15.721376672Z"
    }
   }
  },
  {
   "cell_type": "code",
   "execution_count": 23,
   "outputs": [
    {
     "data": {
      "text/plain": "               SepalLengthCm  SepalWidthCm  PetalLengthCm  PetalWidthCm\nSepalLengthCm       1.000000     -0.109369       0.871754      0.817954\nSepalWidthCm       -0.109369      1.000000      -0.420516     -0.356544\nPetalLengthCm       0.871754     -0.420516       1.000000      0.962757\nPetalWidthCm        0.817954     -0.356544       0.962757      1.000000",
      "text/html": "<div>\n<style scoped>\n    .dataframe tbody tr th:only-of-type {\n        vertical-align: middle;\n    }\n\n    .dataframe tbody tr th {\n        vertical-align: top;\n    }\n\n    .dataframe thead th {\n        text-align: right;\n    }\n</style>\n<table border=\"1\" class=\"dataframe\">\n  <thead>\n    <tr style=\"text-align: right;\">\n      <th></th>\n      <th>SepalLengthCm</th>\n      <th>SepalWidthCm</th>\n      <th>PetalLengthCm</th>\n      <th>PetalWidthCm</th>\n    </tr>\n  </thead>\n  <tbody>\n    <tr>\n      <th>SepalLengthCm</th>\n      <td>1.000000</td>\n      <td>-0.109369</td>\n      <td>0.871754</td>\n      <td>0.817954</td>\n    </tr>\n    <tr>\n      <th>SepalWidthCm</th>\n      <td>-0.109369</td>\n      <td>1.000000</td>\n      <td>-0.420516</td>\n      <td>-0.356544</td>\n    </tr>\n    <tr>\n      <th>PetalLengthCm</th>\n      <td>0.871754</td>\n      <td>-0.420516</td>\n      <td>1.000000</td>\n      <td>0.962757</td>\n    </tr>\n    <tr>\n      <th>PetalWidthCm</th>\n      <td>0.817954</td>\n      <td>-0.356544</td>\n      <td>0.962757</td>\n      <td>1.000000</td>\n    </tr>\n  </tbody>\n</table>\n</div>"
     },
     "execution_count": 23,
     "metadata": {},
     "output_type": "execute_result"
    }
   ],
   "source": [
    "corr = corr_matrix(iris_req_df)\n",
    "corr"
   ],
   "metadata": {
    "collapsed": false,
    "ExecuteTime": {
     "end_time": "2023-08-09T18:12:15.749847187Z",
     "start_time": "2023-08-09T18:12:15.721720805Z"
    }
   }
  },
  {
   "cell_type": "code",
   "execution_count": 24,
   "outputs": [
    {
     "data": {
      "text/plain": "<Axes: >"
     },
     "execution_count": 24,
     "metadata": {},
     "output_type": "execute_result"
    },
    {
     "data": {
      "text/plain": "<Figure size 640x480 with 2 Axes>",
      "image/png": "[encoded data removed]"
     },
     "metadata": {},
     "output_type": "display_data"
    }
   ],
   "source": [
    "sns.heatmap(corr, annot=True)"
   ],
   "metadata": {
    "collapsed": false,
    "ExecuteTime": {
     "end_time": "2023-08-09T18:12:16.176421979Z",
     "start_time": "2023-08-09T18:12:15.725573037Z"
    }
   }
  },
  {
   "cell_type": "markdown",
   "source": [
    "## Highly correlated features\n",
    "This code examines a correlation matrix `corr`, identifying highly correlated pairs (above 0.8) and negatively correlated pairs (below -0.4). It then prints these pairs separately along with their correlation values."
   ],
   "metadata": {
    "collapsed": false
   }
  },
  {
   "cell_type": "code",
   "execution_count": 25,
   "outputs": [
    {
     "name": "stdout",
     "output_type": "stream",
     "text": [
      "Highly correlated features:\n",
      "\n",
      "Positive correlation\n",
      "SepalLengthCm - PetalLengthCm: 0.87\n",
      "SepalLengthCm - PetalWidthCm: 0.82\n",
      "PetalLengthCm - PetalWidthCm: 0.96\n",
      "\n",
      "Negative correlation\n",
      "SepalWidthCm - PetalLengthCm: -0.42\n"
     ]
    }
   ],
   "source": [
    "print('Highly correlated features:')\n",
    "pos, neg = [], []\n",
    "for i in range(len(corr)):\n",
    "    for j in range(i+1, len(corr)):\n",
    "        val = round(corr.iloc[i, j], 2)\n",
    "        if val > 0.8:\n",
    "            pos.append(f\"{corr.columns[i]} - {corr.columns[j]}: {val}\")\n",
    "        elif val < -0.4:\n",
    "            neg.append(f\"{corr.columns[i]} - {corr.columns[j]}: {val}\")\n",
    "print('\\nPositive correlation')\n",
    "print(*pos, sep='\\n')\n",
    "print('\\nNegative correlation')\n",
    "print(*neg, sep='\\n')"
   ],
   "metadata": {
    "collapsed": false,
    "ExecuteTime": {
     "end_time": "2023-08-09T18:12:16.267894091Z",
     "start_time": "2023-08-09T18:12:16.181630777Z"
    }
   }
  }
 ],
 "metadata": {
  "kernelspec": {
   "display_name": "Python 3",
   "language": "python",
   "name": "python3"
  },
  "language_info": {
   "codemirror_mode": {
    "name": "ipython",
    "version": 2
   },
   "file_extension": ".py",
   "mimetype": "text/x-python",
   "name": "python",
   "nbconvert_exporter": "python",
   "pygments_lexer": "ipython2",
   "version": "2.7.6"
  }
 },
 "nbformat": 4,
 "nbformat_minor": 0
}
