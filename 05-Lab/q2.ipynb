{
 "cells": [
  {
   "cell_type": "code",
   "execution_count": 1,
   "id": "initial_id",
   "metadata": {
    "collapsed": true,
    "ExecuteTime": {
     "end_time": "2023-09-04T17:16:13.775038438Z",
     "start_time": "2023-09-04T17:16:12.977067747Z"
    }
   },
   "outputs": [],
   "source": [
    "import numpy as np\n",
    "from sklearn.feature_extraction.text import CountVectorizer"
   ]
  },
  {
   "cell_type": "code",
   "execution_count": 2,
   "outputs": [],
   "source": [
    "def cosine_distance(d1, d2):\n",
    "    return np.dot(d1, d2) / (np.linalg.norm(d1) * np.linalg.norm(d2))"
   ],
   "metadata": {
    "collapsed": false,
    "ExecuteTime": {
     "end_time": "2023-09-04T17:18:09.089524912Z",
     "start_time": "2023-09-04T17:18:09.038915Z"
    }
   },
   "id": "6c7098119fcf2507"
  },
  {
   "cell_type": "code",
   "execution_count": 3,
   "outputs": [],
   "source": [
    "with open('doc1.txt') as f:\n",
    "    doc1 = f.read()\n",
    "with open('doc2.txt') as f:\n",
    "    doc2 = f.read()"
   ],
   "metadata": {
    "collapsed": false,
    "ExecuteTime": {
     "end_time": "2023-09-04T17:18:10.970642576Z",
     "start_time": "2023-09-04T17:18:10.954643057Z"
    }
   },
   "id": "53b67a1f03331911"
  },
  {
   "cell_type": "code",
   "execution_count": 6,
   "outputs": [
    {
     "name": "stdout",
     "output_type": "stream",
     "text": [
      "doc1 vector: [2 1 1 1 1 0 1 0 1 1 1 0 0 1 0 1 1 2 1 0 1 0 0 1 1 0 0 1 2 0 1 1 0 1 1 1 1\n",
      " 0 1 1 0 1]\n",
      "doc2 vector: [0 0 1 0 0 1 0 1 0 0 0 1 1 1 1 0 0 2 0 2 0 1 1 0 1 1 1 0 0 1 0 0 1 0 0 0 0\n",
      " 1 0 1 1 0]\n"
     ]
    }
   ],
   "source": [
    "documents = [doc1, doc2]\n",
    "\n",
    "vectorizer = CountVectorizer()\n",
    "d1, d2 = vectorizer.fit_transform(documents).toarray()\n",
    "print(\"doc1 vector:\", d1)\n",
    "print(\"doc2 vector:\", d2)"
   ],
   "metadata": {
    "collapsed": false,
    "ExecuteTime": {
     "end_time": "2023-09-04T17:20:26.138708051Z",
     "start_time": "2023-09-04T17:20:26.123704636Z"
    }
   },
   "id": "2e7e130b38af63a7"
  },
  {
   "cell_type": "code",
   "execution_count": 7,
   "outputs": [
    {
     "name": "stdout",
     "output_type": "stream",
     "text": [
      "Cosine distance (doc1, doc2): 0.2630383796885717\n",
      "Cosine distance (doc2, doc1): 0.2630383796885717\n"
     ]
    }
   ],
   "source": [
    "print(\"Cosine distance (doc1, doc2):\", cosine_distance(d1, d2))\n",
    "print(\"Cosine distance (doc2, doc1):\", cosine_distance(d2, d1))"
   ],
   "metadata": {
    "collapsed": false,
    "ExecuteTime": {
     "end_time": "2023-09-04T17:21:08.862039455Z",
     "start_time": "2023-09-04T17:21:08.775383642Z"
    }
   },
   "id": "d9cc252028c0087"
  },
  {
   "cell_type": "code",
   "execution_count": null,
   "outputs": [],
   "source": [],
   "metadata": {
    "collapsed": false
   },
   "id": "7d6b1a5df84d671f"
  }
 ],
 "metadata": {
  "kernelspec": {
   "display_name": "Python 3",
   "language": "python",
   "name": "python3"
  },
  "language_info": {
   "codemirror_mode": {
    "name": "ipython",
    "version": 2
   },
   "file_extension": ".py",
   "mimetype": "text/x-python",
   "name": "python",
   "nbconvert_exporter": "python",
   "pygments_lexer": "ipython2",
   "version": "2.7.6"
  }
 },
 "nbformat": 4,
 "nbformat_minor": 5
}
