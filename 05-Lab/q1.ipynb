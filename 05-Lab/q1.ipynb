{
 "cells": [
  {
   "cell_type": "code",
   "execution_count": 1,
   "id": "initial_id",
   "metadata": {
    "collapsed": true,
    "ExecuteTime": {
     "end_time": "2023-09-04T10:50:24.738629327Z",
     "start_time": "2023-09-04T10:50:24.640887557Z"
    }
   },
   "outputs": [],
   "source": [
    "import numpy as np"
   ]
  },
  {
   "cell_type": "code",
   "execution_count": 30,
   "outputs": [],
   "source": [
    "def kl_distance(p, q):\n",
    "    return np.sum(np.where((p != 0) & (q != 0), p * np.log2(p / q), 0))"
   ],
   "metadata": {
    "collapsed": false,
    "ExecuteTime": {
     "end_time": "2023-09-04T11:20:15.830845061Z",
     "start_time": "2023-09-04T11:20:15.767244205Z"
    }
   },
   "id": "dff7328e9bdf44b6"
  },
  {
   "cell_type": "code",
   "execution_count": 29,
   "outputs": [],
   "source": [
    "def bhat_distance(p, q):\n",
    "    bhat_coef =  np.sum(np.sqrt(p * q))\n",
    "    return -np.log(bhat_coef)"
   ],
   "metadata": {
    "collapsed": false,
    "ExecuteTime": {
     "end_time": "2023-09-04T11:13:14.752253611Z",
     "start_time": "2023-09-04T11:13:14.710850926Z"
    }
   },
   "id": "6506931edc08c14"
  },
  {
   "cell_type": "code",
   "execution_count": 26,
   "outputs": [],
   "source": [
    "H1 = np.array([0.24, 0.2, 0.16, 0.12, 0.08, 0.04, 0.12, 0.04])\n",
    "H2 = np.array([0.22, 0.23, 0.16, 0.13, 0.11, 0.08, 0.05, 0.02])"
   ],
   "metadata": {
    "collapsed": false,
    "ExecuteTime": {
     "end_time": "2023-09-04T11:10:08.193591107Z",
     "start_time": "2023-09-04T11:10:08.185399563Z"
    }
   },
   "id": "1edbe1f919ca5f63"
  },
  {
   "cell_type": "code",
   "execution_count": 28,
   "outputs": [
    {
     "name": "stdout",
     "output_type": "stream",
     "text": [
      "KL distance between (H1, H2):  0.09075297258487514\n",
      "KL distance between (H2, H1):  0.08115679003357536\n"
     ]
    }
   ],
   "source": [
    "print(\"KL distance between (H1, H2): \", kl_distance(H1, H2))\n",
    "print(\"KL distance between (H2, H1): \", kl_distance(H2, H1))"
   ],
   "metadata": {
    "collapsed": false,
    "ExecuteTime": {
     "end_time": "2023-09-04T11:11:06.200795050Z",
     "start_time": "2023-09-04T11:11:06.157225971Z"
    }
   },
   "id": "75e70ab552124a8d"
  },
  {
   "cell_type": "code",
   "execution_count": 33,
   "outputs": [
    {
     "name": "stdout",
     "output_type": "stream",
     "text": [
      "Bhattacharya distance between (H1, H2):  0.014830056106628986\n"
     ]
    }
   ],
   "source": [
    "print(\"Bhattacharya distance between (H1, H2) or (H2, H1): \", bhat_distance(H1, H2))"
   ],
   "metadata": {
    "collapsed": false,
    "ExecuteTime": {
     "end_time": "2023-09-04T11:22:36.055038480Z",
     "start_time": "2023-09-04T11:22:36.039880826Z"
    }
   },
   "id": "2f39b2e25d8a0249"
  },
  {
   "cell_type": "code",
   "execution_count": null,
   "outputs": [],
   "source": [],
   "metadata": {
    "collapsed": false
   },
   "id": "3ebd1d3c6473c34a"
  }
 ],
 "metadata": {
  "kernelspec": {
   "display_name": "Python 3",
   "language": "python",
   "name": "python3"
  },
  "language_info": {
   "codemirror_mode": {
    "name": "ipython",
    "version": 2
   },
   "file_extension": ".py",
   "mimetype": "text/x-python",
   "name": "python",
   "nbconvert_exporter": "python",
   "pygments_lexer": "ipython2",
   "version": "2.7.6"
  }
 },
 "nbformat": 4,
 "nbformat_minor": 5
}
