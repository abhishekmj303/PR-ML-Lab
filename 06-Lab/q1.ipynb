{
 "cells": [
  {
   "cell_type": "code",
   "execution_count": 20,
   "id": "initial_id",
   "metadata": {
    "collapsed": true,
    "ExecuteTime": {
     "end_time": "2023-09-14T18:37:23.404575848Z",
     "start_time": "2023-09-14T18:37:23.356248019Z"
    }
   },
   "outputs": [],
   "source": [
    "import numpy as np\n",
    "import pandas as pd\n",
    "import matplotlib.pyplot as plt"
   ]
  },
  {
   "cell_type": "code",
   "execution_count": 21,
   "outputs": [],
   "source": [
    "class BayesClassifier:\n",
    "    def __init__(self, X_train, y_train):\n",
    "        self.X_train = X_train\n",
    "        self.y_train = y_train\n",
    "        self.classes = y_train.unique()\n",
    "        self.apriori = {}\n",
    "        self.mean = {}\n",
    "        self.cov = {}\n",
    "        self.inv_cov = {}\n",
    "        self.det_cov = {}\n",
    "        \n",
    "    def fit(self):\n",
    "        for c in self.classes:\n",
    "            X_c = self.X_train[self.y_train == c]\n",
    "            self.apriori[c] = len(X_c) / len(X_train)\n",
    "            self.mean[c] = np.mean(X_c, axis=0)\n",
    "            self.cov[c] = np.cov(X_c.T)\n",
    "            self.inv_cov[c] = np.linalg.inv(self.cov[c])\n",
    "            self.det_cov[c] = np.linalg.det(self.cov[c])\n",
    "    \n",
    "    def predict(self, X_test):\n",
    "        y_pred = []\n",
    "        for x in X_test.values:\n",
    "            probs = [self.calc_prob(x, c) for c in self.classes]\n",
    "            y_pred.append(self.classes[np.argmax(probs)])\n",
    "        return y_pred\n",
    "    \n",
    "    def calc_prob(self, x, c):\n",
    "        mean = self.mean[c]\n",
    "        inv_cov = self.inv_cov[c]\n",
    "        det_cov = self.det_cov[c]\n",
    "        prob = np.exp(-0.5 * (x - mean).T @ inv_cov @ (x - mean)) / np.power((2 * np.pi) ** len(x) * det_cov, 0.5)\n",
    "        return prob * self.apriori[c]"
   ],
   "metadata": {
    "collapsed": false,
    "ExecuteTime": {
     "end_time": "2023-09-14T18:37:23.404863472Z",
     "start_time": "2023-09-14T18:37:23.400112282Z"
    }
   },
   "id": "e37effdc5b156437"
  },
  {
   "cell_type": "code",
   "execution_count": 22,
   "outputs": [],
   "source": [
    "def split_train_test(df, y_col):\n",
    "    train_data, test_data = pd.DataFrame(), pd.DataFrame()\n",
    "    for y in df[y_col].unique():\n",
    "        df_y = df[df[y_col] == y]\n",
    "        train_data = pd.concat([train_data, df_y[:40]], ignore_index=True)\n",
    "        test_data = pd.concat([test_data, df_y[40:]], ignore_index=True)\n",
    "    X_train, y_train = train_data.drop(y_col, axis=1), train_data[y_col]\n",
    "    X_test, y_test = test_data.drop(y_col, axis=1), test_data[y_col]\n",
    "    return X_train, y_train, X_test, y_test"
   ],
   "metadata": {
    "collapsed": false,
    "ExecuteTime": {
     "end_time": "2023-09-14T18:37:23.404990392Z",
     "start_time": "2023-09-14T18:37:23.400293494Z"
    }
   },
   "id": "a1455262f76b29ac"
  },
  {
   "cell_type": "code",
   "execution_count": 23,
   "outputs": [],
   "source": [
    "def accuracy(y_true, y_pred):\n",
    "    return np.sum(y_true == y_pred) / len(y_true)"
   ],
   "metadata": {
    "collapsed": false,
    "ExecuteTime": {
     "end_time": "2023-09-14T18:37:23.405077798Z",
     "start_time": "2023-09-14T18:37:23.400378796Z"
    }
   },
   "id": "a0e92b1038d284e5"
  },
  {
   "cell_type": "code",
   "execution_count": 24,
   "outputs": [],
   "source": [
    "def accuracy_by_class(y_true, y_pred):\n",
    "    classes = y_true.unique()\n",
    "    acc_by_class = {}\n",
    "    for c in classes:\n",
    "        y_true_c = y_true[y_true == c]\n",
    "        y_pred_c = y_pred[y_true == c]\n",
    "        acc_by_class[c] = accuracy(y_true_c, y_pred_c)\n",
    "    return acc_by_class"
   ],
   "metadata": {
    "collapsed": false,
    "ExecuteTime": {
     "end_time": "2023-09-14T18:37:23.405161957Z",
     "start_time": "2023-09-14T18:37:23.400541033Z"
    }
   },
   "id": "e24d7c44f6400ec5"
  },
  {
   "cell_type": "code",
   "execution_count": 25,
   "outputs": [
    {
     "data": {
      "text/plain": "     SepalLengthCm  SepalWidthCm  PetalLengthCm  PetalWidthCm         Species\n0              5.1           3.5            1.4           0.2     Iris-setosa\n1              4.9           3.0            1.4           0.2     Iris-setosa\n2              4.7           3.2            1.3           0.2     Iris-setosa\n3              4.6           3.1            1.5           0.2     Iris-setosa\n4              5.0           3.6            1.4           0.2     Iris-setosa\n..             ...           ...            ...           ...             ...\n145            6.7           3.0            5.2           2.3  Iris-virginica\n146            6.3           2.5            5.0           1.9  Iris-virginica\n147            6.5           3.0            5.2           2.0  Iris-virginica\n148            6.2           3.4            5.4           2.3  Iris-virginica\n149            5.9           3.0            5.1           1.8  Iris-virginica\n\n[150 rows x 5 columns]",
      "text/html": "<div>\n<style scoped>\n    .dataframe tbody tr th:only-of-type {\n        vertical-align: middle;\n    }\n\n    .dataframe tbody tr th {\n        vertical-align: top;\n    }\n\n    .dataframe thead th {\n        text-align: right;\n    }\n</style>\n<table border=\"1\" class=\"dataframe\">\n  <thead>\n    <tr style=\"text-align: right;\">\n      <th></th>\n      <th>SepalLengthCm</th>\n      <th>SepalWidthCm</th>\n      <th>PetalLengthCm</th>\n      <th>PetalWidthCm</th>\n      <th>Species</th>\n    </tr>\n  </thead>\n  <tbody>\n    <tr>\n      <th>0</th>\n      <td>5.1</td>\n      <td>3.5</td>\n      <td>1.4</td>\n      <td>0.2</td>\n      <td>Iris-setosa</td>\n    </tr>\n    <tr>\n      <th>1</th>\n      <td>4.9</td>\n      <td>3.0</td>\n      <td>1.4</td>\n      <td>0.2</td>\n      <td>Iris-setosa</td>\n    </tr>\n    <tr>\n      <th>2</th>\n      <td>4.7</td>\n      <td>3.2</td>\n      <td>1.3</td>\n      <td>0.2</td>\n      <td>Iris-setosa</td>\n    </tr>\n    <tr>\n      <th>3</th>\n      <td>4.6</td>\n      <td>3.1</td>\n      <td>1.5</td>\n      <td>0.2</td>\n      <td>Iris-setosa</td>\n    </tr>\n    <tr>\n      <th>4</th>\n      <td>5.0</td>\n      <td>3.6</td>\n      <td>1.4</td>\n      <td>0.2</td>\n      <td>Iris-setosa</td>\n    </tr>\n    <tr>\n      <th>...</th>\n      <td>...</td>\n      <td>...</td>\n      <td>...</td>\n      <td>...</td>\n      <td>...</td>\n    </tr>\n    <tr>\n      <th>145</th>\n      <td>6.7</td>\n      <td>3.0</td>\n      <td>5.2</td>\n      <td>2.3</td>\n      <td>Iris-virginica</td>\n    </tr>\n    <tr>\n      <th>146</th>\n      <td>6.3</td>\n      <td>2.5</td>\n      <td>5.0</td>\n      <td>1.9</td>\n      <td>Iris-virginica</td>\n    </tr>\n    <tr>\n      <th>147</th>\n      <td>6.5</td>\n      <td>3.0</td>\n      <td>5.2</td>\n      <td>2.0</td>\n      <td>Iris-virginica</td>\n    </tr>\n    <tr>\n      <th>148</th>\n      <td>6.2</td>\n      <td>3.4</td>\n      <td>5.4</td>\n      <td>2.3</td>\n      <td>Iris-virginica</td>\n    </tr>\n    <tr>\n      <th>149</th>\n      <td>5.9</td>\n      <td>3.0</td>\n      <td>5.1</td>\n      <td>1.8</td>\n      <td>Iris-virginica</td>\n    </tr>\n  </tbody>\n</table>\n<p>150 rows × 5 columns</p>\n</div>"
     },
     "execution_count": 25,
     "metadata": {},
     "output_type": "execute_result"
    }
   ],
   "source": [
    "iris_df = pd.read_csv('iris.csv').drop('Id', axis=1)\n",
    "iris_df"
   ],
   "metadata": {
    "collapsed": false,
    "ExecuteTime": {
     "end_time": "2023-09-14T18:37:23.406022155Z",
     "start_time": "2023-09-14T18:37:23.400627617Z"
    }
   },
   "id": "4a0937683ba2db12"
  },
  {
   "cell_type": "code",
   "execution_count": 26,
   "outputs": [
    {
     "name": "stdout",
     "output_type": "stream",
     "text": [
      "X_train: 120\n",
      "X_test: 30\n"
     ]
    }
   ],
   "source": [
    "X_train, y_train, X_test, y_test = split_train_test(iris_df, 'Species')\n",
    "print(f\"X_train: {len(X_train)}\")\n",
    "print(f\"X_test: {len(X_test)}\")"
   ],
   "metadata": {
    "collapsed": false,
    "ExecuteTime": {
     "end_time": "2023-09-14T18:37:23.418568806Z",
     "start_time": "2023-09-14T18:37:23.411580963Z"
    }
   },
   "id": "3fe83f42d7bd0e3a"
  },
  {
   "cell_type": "code",
   "execution_count": 27,
   "outputs": [],
   "source": [
    "bayes_classifier = BayesClassifier(X_train, y_train)\n",
    "bayes_classifier.fit()"
   ],
   "metadata": {
    "collapsed": false,
    "ExecuteTime": {
     "end_time": "2023-09-14T18:37:23.500409771Z",
     "start_time": "2023-09-14T18:37:23.415156269Z"
    }
   },
   "id": "d02c1accb320eaf2"
  },
  {
   "cell_type": "code",
   "execution_count": 28,
   "outputs": [
    {
     "data": {
      "text/plain": "       Actual Class  Predicted Class\n0       Iris-setosa      Iris-setosa\n1       Iris-setosa      Iris-setosa\n2       Iris-setosa      Iris-setosa\n3       Iris-setosa      Iris-setosa\n4       Iris-setosa      Iris-setosa\n5       Iris-setosa      Iris-setosa\n6       Iris-setosa      Iris-setosa\n7       Iris-setosa      Iris-setosa\n8       Iris-setosa      Iris-setosa\n9       Iris-setosa      Iris-setosa\n10  Iris-versicolor  Iris-versicolor\n11  Iris-versicolor  Iris-versicolor\n12  Iris-versicolor  Iris-versicolor\n13  Iris-versicolor  Iris-versicolor\n14  Iris-versicolor  Iris-versicolor\n15  Iris-versicolor  Iris-versicolor\n16  Iris-versicolor  Iris-versicolor\n17  Iris-versicolor  Iris-versicolor\n18  Iris-versicolor  Iris-versicolor\n19  Iris-versicolor  Iris-versicolor\n20   Iris-virginica   Iris-virginica\n21   Iris-virginica   Iris-virginica\n22   Iris-virginica   Iris-virginica\n23   Iris-virginica   Iris-virginica\n24   Iris-virginica   Iris-virginica\n25   Iris-virginica   Iris-virginica\n26   Iris-virginica   Iris-virginica\n27   Iris-virginica   Iris-virginica\n28   Iris-virginica   Iris-virginica\n29   Iris-virginica   Iris-virginica",
      "text/html": "<div>\n<style scoped>\n    .dataframe tbody tr th:only-of-type {\n        vertical-align: middle;\n    }\n\n    .dataframe tbody tr th {\n        vertical-align: top;\n    }\n\n    .dataframe thead th {\n        text-align: right;\n    }\n</style>\n<table border=\"1\" class=\"dataframe\">\n  <thead>\n    <tr style=\"text-align: right;\">\n      <th></th>\n      <th>Actual Class</th>\n      <th>Predicted Class</th>\n    </tr>\n  </thead>\n  <tbody>\n    <tr>\n      <th>0</th>\n      <td>Iris-setosa</td>\n      <td>Iris-setosa</td>\n    </tr>\n    <tr>\n      <th>1</th>\n      <td>Iris-setosa</td>\n      <td>Iris-setosa</td>\n    </tr>\n    <tr>\n      <th>2</th>\n      <td>Iris-setosa</td>\n      <td>Iris-setosa</td>\n    </tr>\n    <tr>\n      <th>3</th>\n      <td>Iris-setosa</td>\n      <td>Iris-setosa</td>\n    </tr>\n    <tr>\n      <th>4</th>\n      <td>Iris-setosa</td>\n      <td>Iris-setosa</td>\n    </tr>\n    <tr>\n      <th>5</th>\n      <td>Iris-setosa</td>\n      <td>Iris-setosa</td>\n    </tr>\n    <tr>\n      <th>6</th>\n      <td>Iris-setosa</td>\n      <td>Iris-setosa</td>\n    </tr>\n    <tr>\n      <th>7</th>\n      <td>Iris-setosa</td>\n      <td>Iris-setosa</td>\n    </tr>\n    <tr>\n      <th>8</th>\n      <td>Iris-setosa</td>\n      <td>Iris-setosa</td>\n    </tr>\n    <tr>\n      <th>9</th>\n      <td>Iris-setosa</td>\n      <td>Iris-setosa</td>\n    </tr>\n    <tr>\n      <th>10</th>\n      <td>Iris-versicolor</td>\n      <td>Iris-versicolor</td>\n    </tr>\n    <tr>\n      <th>11</th>\n      <td>Iris-versicolor</td>\n      <td>Iris-versicolor</td>\n    </tr>\n    <tr>\n      <th>12</th>\n      <td>Iris-versicolor</td>\n      <td>Iris-versicolor</td>\n    </tr>\n    <tr>\n      <th>13</th>\n      <td>Iris-versicolor</td>\n      <td>Iris-versicolor</td>\n    </tr>\n    <tr>\n      <th>14</th>\n      <td>Iris-versicolor</td>\n      <td>Iris-versicolor</td>\n    </tr>\n    <tr>\n      <th>15</th>\n      <td>Iris-versicolor</td>\n      <td>Iris-versicolor</td>\n    </tr>\n    <tr>\n      <th>16</th>\n      <td>Iris-versicolor</td>\n      <td>Iris-versicolor</td>\n    </tr>\n    <tr>\n      <th>17</th>\n      <td>Iris-versicolor</td>\n      <td>Iris-versicolor</td>\n    </tr>\n    <tr>\n      <th>18</th>\n      <td>Iris-versicolor</td>\n      <td>Iris-versicolor</td>\n    </tr>\n    <tr>\n      <th>19</th>\n      <td>Iris-versicolor</td>\n      <td>Iris-versicolor</td>\n    </tr>\n    <tr>\n      <th>20</th>\n      <td>Iris-virginica</td>\n      <td>Iris-virginica</td>\n    </tr>\n    <tr>\n      <th>21</th>\n      <td>Iris-virginica</td>\n      <td>Iris-virginica</td>\n    </tr>\n    <tr>\n      <th>22</th>\n      <td>Iris-virginica</td>\n      <td>Iris-virginica</td>\n    </tr>\n    <tr>\n      <th>23</th>\n      <td>Iris-virginica</td>\n      <td>Iris-virginica</td>\n    </tr>\n    <tr>\n      <th>24</th>\n      <td>Iris-virginica</td>\n      <td>Iris-virginica</td>\n    </tr>\n    <tr>\n      <th>25</th>\n      <td>Iris-virginica</td>\n      <td>Iris-virginica</td>\n    </tr>\n    <tr>\n      <th>26</th>\n      <td>Iris-virginica</td>\n      <td>Iris-virginica</td>\n    </tr>\n    <tr>\n      <th>27</th>\n      <td>Iris-virginica</td>\n      <td>Iris-virginica</td>\n    </tr>\n    <tr>\n      <th>28</th>\n      <td>Iris-virginica</td>\n      <td>Iris-virginica</td>\n    </tr>\n    <tr>\n      <th>29</th>\n      <td>Iris-virginica</td>\n      <td>Iris-virginica</td>\n    </tr>\n  </tbody>\n</table>\n</div>"
     },
     "execution_count": 28,
     "metadata": {},
     "output_type": "execute_result"
    }
   ],
   "source": [
    "y_pred = bayes_classifier.predict(X_test)\n",
    "result = pd.DataFrame({'Actual Class': y_test, 'Predicted Class': y_pred})\n",
    "result"
   ],
   "metadata": {
    "collapsed": false,
    "ExecuteTime": {
     "end_time": "2023-09-14T18:37:23.501478253Z",
     "start_time": "2023-09-14T18:37:23.457116940Z"
    }
   },
   "id": "fa5273e74a8bcec5"
  },
  {
   "cell_type": "code",
   "execution_count": 29,
   "outputs": [
    {
     "name": "stdout",
     "output_type": "stream",
     "text": [
      "Accuracy: 1.0\n",
      "Accuracy by class: {'Iris-setosa': 1.0, 'Iris-versicolor': 1.0, 'Iris-virginica': 1.0}\n"
     ]
    }
   ],
   "source": [
    "acc = accuracy(y_test, y_pred)\n",
    "acc_by_class = accuracy_by_class(y_test, pd.Series(y_pred))\n",
    "print(f\"Accuracy: {acc}\")\n",
    "print(f\"Accuracy by class: {acc_by_class}\")"
   ],
   "metadata": {
    "collapsed": false,
    "ExecuteTime": {
     "end_time": "2023-09-14T18:37:23.566333397Z",
     "start_time": "2023-09-14T18:37:23.499005033Z"
    }
   },
   "id": "22cd7bdfde05780c"
  },
  {
   "cell_type": "code",
   "execution_count": 30,
   "outputs": [
    {
     "data": {
      "text/plain": "<Figure size 640x480 with 1 Axes>",
      "image/png": "[encoded data removed]"
     },
     "metadata": {},
     "output_type": "display_data"
    }
   ],
   "source": [
    "all_acc = {**acc_by_class, 'Overall':acc}\n",
    "plt.bar(all_acc.keys(), all_acc.values())\n",
    "plt.xlabel('Class')\n",
    "plt.ylabel('Accuracy')\n",
    "plt.show()"
   ],
   "metadata": {
    "collapsed": false,
    "ExecuteTime": {
     "end_time": "2023-09-14T18:37:23.640612002Z",
     "start_time": "2023-09-14T18:37:23.499216543Z"
    }
   },
   "id": "9da1127bb87e47dc"
  }
 ],
 "metadata": {
  "kernelspec": {
   "display_name": "Python 3",
   "language": "python",
   "name": "python3"
  },
  "language_info": {
   "codemirror_mode": {
    "name": "ipython",
    "version": 2
   },
   "file_extension": ".py",
   "mimetype": "text/x-python",
   "name": "python",
   "nbconvert_exporter": "python",
   "pygments_lexer": "ipython2",
   "version": "2.7.6"
  }
 },
 "nbformat": 4,
 "nbformat_minor": 5
}
