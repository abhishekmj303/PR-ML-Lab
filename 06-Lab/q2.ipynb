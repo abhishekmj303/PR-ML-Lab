{
 "cells": [
  {
   "cell_type": "code",
   "execution_count": 1,
   "id": "initial_id",
   "metadata": {
    "collapsed": true,
    "ExecuteTime": {
     "end_time": "2023-09-16T13:44:34.697856379Z",
     "start_time": "2023-09-16T13:44:34.023944957Z"
    }
   },
   "outputs": [],
   "source": [
    "import numpy as np\n",
    "import sympy\n",
    "import pandas as pd\n",
    "import matplotlib.pyplot as plt"
   ]
  },
  {
   "cell_type": "code",
   "execution_count": 2,
   "outputs": [],
   "source": [
    "class BayesClassifier:\n",
    "    def __init__(self, X_train, y_train):\n",
    "        self.X_train = X_train\n",
    "        self.y_train = y_train\n",
    "        self.classes = y_train.unique()\n",
    "        self.apriori = {}\n",
    "        self.mean = {}\n",
    "        self.cov = {}\n",
    "        self.inv_cov = {}\n",
    "        self.det_cov = {}\n",
    "        \n",
    "    def fit(self):\n",
    "        for c in self.classes:\n",
    "            X_c = self.X_train[self.y_train == c]\n",
    "            self.apriori[c] = len(X_c) / len(X_train)\n",
    "            self.mean[c] = np.mean(X_c, axis=0)\n",
    "            self.cov[c] = covariance(X_c)\n",
    "            self.inv_cov[c] = np.linalg.inv(self.cov[c])\n",
    "            self.det_cov[c] = sympy.Matrix(self.cov[c]).det()\n",
    "            # print(self.det_cov[c])\n",
    "    \n",
    "    def predict(self, X_test):\n",
    "        y_pred = []\n",
    "        for x in X_test.values:\n",
    "            probs = [self.calc_prob(x, c) for c in self.classes]\n",
    "            y_pred.append(self.classes[np.argmax(probs)])\n",
    "        return y_pred\n",
    "    \n",
    "    def calc_prob(self, x, c):\n",
    "        apriori = self.apriori[c]\n",
    "        mean = self.mean[c]\n",
    "        inv_cov = self.inv_cov[c]\n",
    "        det_cov = self.det_cov[c]\n",
    "        prob = np.exp(np.dot(-0.5 * (x - mean).T, inv_cov).dot(x - mean)) / np.power((2 * np.pi) ** len(x) * det_cov, 0.5)\n",
    "        return prob * apriori"
   ],
   "metadata": {
    "collapsed": false,
    "ExecuteTime": {
     "end_time": "2023-09-16T13:44:34.705803205Z",
     "start_time": "2023-09-16T13:44:34.704366176Z"
    }
   },
   "id": "89808512bf115aa1"
  },
  {
   "cell_type": "code",
   "execution_count": 3,
   "outputs": [],
   "source": [
    "def covariance(X):\n",
    "    X = X - np.mean(X, axis=0)\n",
    "    return np.dot(X.T, X) / (len(X) - 1)"
   ],
   "metadata": {
    "collapsed": false,
    "ExecuteTime": {
     "end_time": "2023-09-16T13:44:34.713950611Z",
     "start_time": "2023-09-16T13:44:34.708412042Z"
    }
   },
   "id": "c62796d2cbf6e581"
  },
  {
   "cell_type": "code",
   "execution_count": 4,
   "outputs": [],
   "source": [
    "def split_train_test(df, y_col):\n",
    "    train_data, test_data = pd.DataFrame(), pd.DataFrame()\n",
    "    for y in df[y_col].unique():\n",
    "        df_y = df[df[y_col] == y]\n",
    "        test_data = pd.concat([test_data, df_y[:5]], ignore_index=True)\n",
    "        train_data = pd.concat([train_data, df_y[5:]], ignore_index=True)\n",
    "    X_train, y_train = train_data.drop(y_col, axis=1), train_data[y_col]\n",
    "    X_test, y_test = test_data.drop(y_col, axis=1), test_data[y_col]\n",
    "    return X_train, y_train, X_test, y_test"
   ],
   "metadata": {
    "collapsed": false,
    "ExecuteTime": {
     "end_time": "2023-09-16T13:44:34.729591576Z",
     "start_time": "2023-09-16T13:44:34.716488023Z"
    }
   },
   "id": "979a214b801520da"
  },
  {
   "cell_type": "code",
   "execution_count": 5,
   "outputs": [],
   "source": [
    "def accuracy(y_true, y_pred):\n",
    "    return np.sum(y_true == y_pred) / len(y_true)"
   ],
   "metadata": {
    "collapsed": false,
    "ExecuteTime": {
     "end_time": "2023-09-16T13:44:34.730136157Z",
     "start_time": "2023-09-16T13:44:34.723662788Z"
    }
   },
   "id": "7f0d353fe9795114"
  },
  {
   "cell_type": "code",
   "execution_count": 6,
   "outputs": [],
   "source": [
    "def accuracy_by_class(y_true, y_pred):\n",
    "    classes = y_true.unique()\n",
    "    acc_by_class = {}\n",
    "    for c in classes:\n",
    "        y_true_c = y_true[y_true == c]\n",
    "        y_pred_c = y_pred[y_true == c]\n",
    "        acc_by_class[c] = accuracy(y_true_c, y_pred_c)\n",
    "    return acc_by_class"
   ],
   "metadata": {
    "collapsed": false,
    "ExecuteTime": {
     "end_time": "2023-09-16T13:44:34.771235162Z",
     "start_time": "2023-09-16T13:44:34.768017884Z"
    }
   },
   "id": "9335dee208f98df"
  },
  {
   "cell_type": "code",
   "execution_count": 7,
   "outputs": [
    {
     "data": {
      "text/plain": "      Class         0         1         2         3         4         5  \\\n1      male -0.066420  0.151611  0.027740  0.052771 -0.066105 -0.041232   \n2      male -0.030614  0.049667  0.008084 -0.050324  0.007649 -0.063818   \n3      male -0.096178  0.061127  0.035326 -0.035388 -0.090728 -0.018634   \n4      male -0.103057  0.085044  0.078333 -0.035873 -0.028163  0.004924   \n5      male -0.125815  0.120046  0.023131 -0.042901  0.038215 -0.049677   \n..      ...       ...       ...       ...       ...       ...       ...   \n796  female -0.164731  0.064301  0.058630 -0.017420 -0.157600 -0.022536   \n797  female -0.095308  0.051095  0.092913 -0.101745 -0.083153 -0.028159   \n798  female -0.202852  0.037039  0.079731 -0.047156 -0.140062 -0.080246   \n799  female -0.088300  0.063530  0.049627 -0.026011 -0.172773  0.086218   \n800  female -0.156201  0.055165  0.142716 -0.115393 -0.128982 -0.139830   \n\n            6         7         8  ...       118       119       120  \\\n1   -0.002637 -0.158467  0.130467  ...  0.025989 -0.001087  0.027260   \n2   -0.019530 -0.119905  0.186553  ...  0.044229 -0.023900 -0.028108   \n3   -0.024315 -0.139786  0.052211  ...  0.111141  0.059436 -0.029222   \n4    0.007829 -0.017016  0.114907  ...  0.100793 -0.002644 -0.023388   \n5   -0.054258 -0.130758  0.173457  ...  0.090197  0.067527  0.039926   \n..        ...       ...       ...  ...       ...       ...       ...   \n796  0.002864 -0.072739  0.030554  ...  0.095115  0.007198 -0.004655   \n797  0.009090 -0.114513  0.157421  ...  0.056078  0.119846  0.087470   \n798  0.057668 -0.122083  0.165443  ...  0.066954  0.035684 -0.023112   \n799  0.042710 -0.161852  0.185083  ...  0.039460  0.067547  0.040426   \n800 -0.037305 -0.101402  0.048473  ...  0.024955  0.066980 -0.002332   \n\n          121       122       123       124       125       126       127  \n1   -0.046754 -0.118619 -0.163774 -0.000590 -0.076400  0.107497  0.001567  \n2    0.040618 -0.146579 -0.141244  0.016162  0.017638  0.080610 -0.015930  \n3    0.042115 -0.222173 -0.116908  0.093428  0.017391  0.057652  0.086116  \n4    0.029497 -0.139830 -0.119243  0.005306 -0.015100  0.161575  0.062462  \n5    0.047469 -0.056852 -0.076700  0.004966  0.028171  0.026041  0.084135  \n..        ...       ...       ...       ...       ...       ...       ...  \n796  0.023957 -0.170753 -0.136630  0.041614  0.031600  0.019064  0.004384  \n797  0.017481 -0.096594 -0.084553  0.037709  0.030732 -0.083713  0.064970  \n798 -0.030452 -0.154243 -0.188270  0.071086  0.037384 -0.006257  0.039977  \n799  0.028007 -0.154515 -0.127736  0.046967  0.009701 -0.016942  0.048071  \n800 -0.045738 -0.110557 -0.014995 -0.002124 -0.010298 -0.028856  0.075323  \n\n[800 rows x 129 columns]",
      "text/html": "<div>\n<style scoped>\n    .dataframe tbody tr th:only-of-type {\n        vertical-align: middle;\n    }\n\n    .dataframe tbody tr th {\n        vertical-align: top;\n    }\n\n    .dataframe thead th {\n        text-align: right;\n    }\n</style>\n<table border=\"1\" class=\"dataframe\">\n  <thead>\n    <tr style=\"text-align: right;\">\n      <th></th>\n      <th>Class</th>\n      <th>0</th>\n      <th>1</th>\n      <th>2</th>\n      <th>3</th>\n      <th>4</th>\n      <th>5</th>\n      <th>6</th>\n      <th>7</th>\n      <th>8</th>\n      <th>...</th>\n      <th>118</th>\n      <th>119</th>\n      <th>120</th>\n      <th>121</th>\n      <th>122</th>\n      <th>123</th>\n      <th>124</th>\n      <th>125</th>\n      <th>126</th>\n      <th>127</th>\n    </tr>\n  </thead>\n  <tbody>\n    <tr>\n      <th>1</th>\n      <td>male</td>\n      <td>-0.066420</td>\n      <td>0.151611</td>\n      <td>0.027740</td>\n      <td>0.052771</td>\n      <td>-0.066105</td>\n      <td>-0.041232</td>\n      <td>-0.002637</td>\n      <td>-0.158467</td>\n      <td>0.130467</td>\n      <td>...</td>\n      <td>0.025989</td>\n      <td>-0.001087</td>\n      <td>0.027260</td>\n      <td>-0.046754</td>\n      <td>-0.118619</td>\n      <td>-0.163774</td>\n      <td>-0.000590</td>\n      <td>-0.076400</td>\n      <td>0.107497</td>\n      <td>0.001567</td>\n    </tr>\n    <tr>\n      <th>2</th>\n      <td>male</td>\n      <td>-0.030614</td>\n      <td>0.049667</td>\n      <td>0.008084</td>\n      <td>-0.050324</td>\n      <td>0.007649</td>\n      <td>-0.063818</td>\n      <td>-0.019530</td>\n      <td>-0.119905</td>\n      <td>0.186553</td>\n      <td>...</td>\n      <td>0.044229</td>\n      <td>-0.023900</td>\n      <td>-0.028108</td>\n      <td>0.040618</td>\n      <td>-0.146579</td>\n      <td>-0.141244</td>\n      <td>0.016162</td>\n      <td>0.017638</td>\n      <td>0.080610</td>\n      <td>-0.015930</td>\n    </tr>\n    <tr>\n      <th>3</th>\n      <td>male</td>\n      <td>-0.096178</td>\n      <td>0.061127</td>\n      <td>0.035326</td>\n      <td>-0.035388</td>\n      <td>-0.090728</td>\n      <td>-0.018634</td>\n      <td>-0.024315</td>\n      <td>-0.139786</td>\n      <td>0.052211</td>\n      <td>...</td>\n      <td>0.111141</td>\n      <td>0.059436</td>\n      <td>-0.029222</td>\n      <td>0.042115</td>\n      <td>-0.222173</td>\n      <td>-0.116908</td>\n      <td>0.093428</td>\n      <td>0.017391</td>\n      <td>0.057652</td>\n      <td>0.086116</td>\n    </tr>\n    <tr>\n      <th>4</th>\n      <td>male</td>\n      <td>-0.103057</td>\n      <td>0.085044</td>\n      <td>0.078333</td>\n      <td>-0.035873</td>\n      <td>-0.028163</td>\n      <td>0.004924</td>\n      <td>0.007829</td>\n      <td>-0.017016</td>\n      <td>0.114907</td>\n      <td>...</td>\n      <td>0.100793</td>\n      <td>-0.002644</td>\n      <td>-0.023388</td>\n      <td>0.029497</td>\n      <td>-0.139830</td>\n      <td>-0.119243</td>\n      <td>0.005306</td>\n      <td>-0.015100</td>\n      <td>0.161575</td>\n      <td>0.062462</td>\n    </tr>\n    <tr>\n      <th>5</th>\n      <td>male</td>\n      <td>-0.125815</td>\n      <td>0.120046</td>\n      <td>0.023131</td>\n      <td>-0.042901</td>\n      <td>0.038215</td>\n      <td>-0.049677</td>\n      <td>-0.054258</td>\n      <td>-0.130758</td>\n      <td>0.173457</td>\n      <td>...</td>\n      <td>0.090197</td>\n      <td>0.067527</td>\n      <td>0.039926</td>\n      <td>0.047469</td>\n      <td>-0.056852</td>\n      <td>-0.076700</td>\n      <td>0.004966</td>\n      <td>0.028171</td>\n      <td>0.026041</td>\n      <td>0.084135</td>\n    </tr>\n    <tr>\n      <th>...</th>\n      <td>...</td>\n      <td>...</td>\n      <td>...</td>\n      <td>...</td>\n      <td>...</td>\n      <td>...</td>\n      <td>...</td>\n      <td>...</td>\n      <td>...</td>\n      <td>...</td>\n      <td>...</td>\n      <td>...</td>\n      <td>...</td>\n      <td>...</td>\n      <td>...</td>\n      <td>...</td>\n      <td>...</td>\n      <td>...</td>\n      <td>...</td>\n      <td>...</td>\n      <td>...</td>\n    </tr>\n    <tr>\n      <th>796</th>\n      <td>female</td>\n      <td>-0.164731</td>\n      <td>0.064301</td>\n      <td>0.058630</td>\n      <td>-0.017420</td>\n      <td>-0.157600</td>\n      <td>-0.022536</td>\n      <td>0.002864</td>\n      <td>-0.072739</td>\n      <td>0.030554</td>\n      <td>...</td>\n      <td>0.095115</td>\n      <td>0.007198</td>\n      <td>-0.004655</td>\n      <td>0.023957</td>\n      <td>-0.170753</td>\n      <td>-0.136630</td>\n      <td>0.041614</td>\n      <td>0.031600</td>\n      <td>0.019064</td>\n      <td>0.004384</td>\n    </tr>\n    <tr>\n      <th>797</th>\n      <td>female</td>\n      <td>-0.095308</td>\n      <td>0.051095</td>\n      <td>0.092913</td>\n      <td>-0.101745</td>\n      <td>-0.083153</td>\n      <td>-0.028159</td>\n      <td>0.009090</td>\n      <td>-0.114513</td>\n      <td>0.157421</td>\n      <td>...</td>\n      <td>0.056078</td>\n      <td>0.119846</td>\n      <td>0.087470</td>\n      <td>0.017481</td>\n      <td>-0.096594</td>\n      <td>-0.084553</td>\n      <td>0.037709</td>\n      <td>0.030732</td>\n      <td>-0.083713</td>\n      <td>0.064970</td>\n    </tr>\n    <tr>\n      <th>798</th>\n      <td>female</td>\n      <td>-0.202852</td>\n      <td>0.037039</td>\n      <td>0.079731</td>\n      <td>-0.047156</td>\n      <td>-0.140062</td>\n      <td>-0.080246</td>\n      <td>0.057668</td>\n      <td>-0.122083</td>\n      <td>0.165443</td>\n      <td>...</td>\n      <td>0.066954</td>\n      <td>0.035684</td>\n      <td>-0.023112</td>\n      <td>-0.030452</td>\n      <td>-0.154243</td>\n      <td>-0.188270</td>\n      <td>0.071086</td>\n      <td>0.037384</td>\n      <td>-0.006257</td>\n      <td>0.039977</td>\n    </tr>\n    <tr>\n      <th>799</th>\n      <td>female</td>\n      <td>-0.088300</td>\n      <td>0.063530</td>\n      <td>0.049627</td>\n      <td>-0.026011</td>\n      <td>-0.172773</td>\n      <td>0.086218</td>\n      <td>0.042710</td>\n      <td>-0.161852</td>\n      <td>0.185083</td>\n      <td>...</td>\n      <td>0.039460</td>\n      <td>0.067547</td>\n      <td>0.040426</td>\n      <td>0.028007</td>\n      <td>-0.154515</td>\n      <td>-0.127736</td>\n      <td>0.046967</td>\n      <td>0.009701</td>\n      <td>-0.016942</td>\n      <td>0.048071</td>\n    </tr>\n    <tr>\n      <th>800</th>\n      <td>female</td>\n      <td>-0.156201</td>\n      <td>0.055165</td>\n      <td>0.142716</td>\n      <td>-0.115393</td>\n      <td>-0.128982</td>\n      <td>-0.139830</td>\n      <td>-0.037305</td>\n      <td>-0.101402</td>\n      <td>0.048473</td>\n      <td>...</td>\n      <td>0.024955</td>\n      <td>0.066980</td>\n      <td>-0.002332</td>\n      <td>-0.045738</td>\n      <td>-0.110557</td>\n      <td>-0.014995</td>\n      <td>-0.002124</td>\n      <td>-0.010298</td>\n      <td>-0.028856</td>\n      <td>0.075323</td>\n    </tr>\n  </tbody>\n</table>\n<p>800 rows × 129 columns</p>\n</div>"
     },
     "execution_count": 7,
     "metadata": {},
     "output_type": "execute_result"
    }
   ],
   "source": [
    "face_df = pd.read_csv('face_feature_vectors.csv', index_col=0)\n",
    "face_df.rename(columns={'Unnamed: 1': 'Class'}, inplace=True)\n",
    "face_df"
   ],
   "metadata": {
    "collapsed": false,
    "ExecuteTime": {
     "end_time": "2023-09-16T13:44:34.810463427Z",
     "start_time": "2023-09-16T13:44:34.768236297Z"
    }
   },
   "id": "c663a6b99a357b14"
  },
  {
   "cell_type": "code",
   "execution_count": 8,
   "outputs": [
    {
     "name": "stdout",
     "output_type": "stream",
     "text": [
      "X_train: 790\n",
      "X_test: 10\n"
     ]
    }
   ],
   "source": [
    "X_train, y_train, X_test, y_test = split_train_test(face_df, 'Class')\n",
    "print(f\"X_train: {len(X_train)}\")\n",
    "print(f\"X_test: {len(X_test)}\")"
   ],
   "metadata": {
    "collapsed": false,
    "ExecuteTime": {
     "end_time": "2023-09-16T13:44:34.811512181Z",
     "start_time": "2023-09-16T13:44:34.809168547Z"
    }
   },
   "id": "c9e6477fbe932929"
  },
  {
   "cell_type": "code",
   "execution_count": 9,
   "outputs": [],
   "source": [
    "bayes_classifier = BayesClassifier(X_train, y_train)\n",
    "bayes_classifier.fit()"
   ],
   "metadata": {
    "collapsed": false,
    "ExecuteTime": {
     "end_time": "2023-09-16T13:45:19.281189908Z",
     "start_time": "2023-09-16T13:44:34.809398332Z"
    }
   },
   "id": "c9954b7098881d07"
  },
  {
   "cell_type": "code",
   "execution_count": 10,
   "outputs": [
    {
     "data": {
      "text/plain": "   Actual Predicted\n0    male      male\n1    male      male\n2    male      male\n3    male      male\n4    male      male\n5  female      male\n6  female    female\n7  female    female\n8  female    female\n9  female    female",
      "text/html": "<div>\n<style scoped>\n    .dataframe tbody tr th:only-of-type {\n        vertical-align: middle;\n    }\n\n    .dataframe tbody tr th {\n        vertical-align: top;\n    }\n\n    .dataframe thead th {\n        text-align: right;\n    }\n</style>\n<table border=\"1\" class=\"dataframe\">\n  <thead>\n    <tr style=\"text-align: right;\">\n      <th></th>\n      <th>Actual</th>\n      <th>Predicted</th>\n    </tr>\n  </thead>\n  <tbody>\n    <tr>\n      <th>0</th>\n      <td>male</td>\n      <td>male</td>\n    </tr>\n    <tr>\n      <th>1</th>\n      <td>male</td>\n      <td>male</td>\n    </tr>\n    <tr>\n      <th>2</th>\n      <td>male</td>\n      <td>male</td>\n    </tr>\n    <tr>\n      <th>3</th>\n      <td>male</td>\n      <td>male</td>\n    </tr>\n    <tr>\n      <th>4</th>\n      <td>male</td>\n      <td>male</td>\n    </tr>\n    <tr>\n      <th>5</th>\n      <td>female</td>\n      <td>male</td>\n    </tr>\n    <tr>\n      <th>6</th>\n      <td>female</td>\n      <td>female</td>\n    </tr>\n    <tr>\n      <th>7</th>\n      <td>female</td>\n      <td>female</td>\n    </tr>\n    <tr>\n      <th>8</th>\n      <td>female</td>\n      <td>female</td>\n    </tr>\n    <tr>\n      <th>9</th>\n      <td>female</td>\n      <td>female</td>\n    </tr>\n  </tbody>\n</table>\n</div>"
     },
     "execution_count": 10,
     "metadata": {},
     "output_type": "execute_result"
    }
   ],
   "source": [
    "y_pred = bayes_classifier.predict(X_test)\n",
    "result_df = pd.DataFrame({'Actual': y_test, 'Predicted': y_pred})\n",
    "result_df"
   ],
   "metadata": {
    "collapsed": false,
    "ExecuteTime": {
     "end_time": "2023-09-16T13:45:19.322767448Z",
     "start_time": "2023-09-16T13:45:19.321215361Z"
    }
   },
   "id": "3c53574df3179d85"
  },
  {
   "cell_type": "code",
   "execution_count": 11,
   "outputs": [
    {
     "name": "stdout",
     "output_type": "stream",
     "text": [
      "Accuracy: 0.9\n",
      "Accuracy by class: {'male': 1.0, 'female': 0.8}\n"
     ]
    }
   ],
   "source": [
    "acc = accuracy(y_test, y_pred)\n",
    "acc_by_class = accuracy_by_class(y_test, pd.Series(y_pred))\n",
    "print(f\"Accuracy: {acc}\")\n",
    "print(f\"Accuracy by class: {acc_by_class}\")"
   ],
   "metadata": {
    "collapsed": false,
    "ExecuteTime": {
     "end_time": "2023-09-16T13:45:19.324102073Z",
     "start_time": "2023-09-16T13:45:19.321695049Z"
    }
   },
   "id": "e920f50edaa2583f"
  },
  {
   "cell_type": "code",
   "execution_count": 12,
   "outputs": [
    {
     "data": {
      "text/plain": "<Figure size 640x480 with 1 Axes>",
      "image/png": "[encoded data removed]"
     },
     "metadata": {},
     "output_type": "display_data"
    }
   ],
   "source": [
    "all_acc = {**acc_by_class, 'Overall':acc}\n",
    "plt.bar(all_acc.keys(), all_acc.values())\n",
    "plt.xlabel('Class')\n",
    "plt.ylabel('Accuracy')\n",
    "plt.show()"
   ],
   "metadata": {
    "collapsed": false,
    "ExecuteTime": {
     "end_time": "2023-09-16T13:45:19.477003561Z",
     "start_time": "2023-09-16T13:45:19.321974748Z"
    }
   },
   "id": "3567f97feb48b231"
  },
  {
   "cell_type": "code",
   "execution_count": 12,
   "outputs": [],
   "source": [],
   "metadata": {
    "collapsed": false,
    "ExecuteTime": {
     "end_time": "2023-09-16T13:45:19.489100019Z",
     "start_time": "2023-09-16T13:45:19.448623262Z"
    }
   },
   "id": "53f9413f1f28cc86"
  }
 ],
 "metadata": {
  "kernelspec": {
   "display_name": "Python 3",
   "language": "python",
   "name": "python3"
  },
  "language_info": {
   "codemirror_mode": {
    "name": "ipython",
    "version": 2
   },
   "file_extension": ".py",
   "mimetype": "text/x-python",
   "name": "python",
   "nbconvert_exporter": "python",
   "pygments_lexer": "ipython2",
   "version": "2.7.6"
  }
 },
 "nbformat": 4,
 "nbformat_minor": 5
}
