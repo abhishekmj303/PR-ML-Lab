{
 "cells": [
  {
   "cell_type": "code",
   "execution_count": 9,
   "id": "initial_id",
   "metadata": {
    "collapsed": true,
    "ExecuteTime": {
     "end_time": "2023-08-22T20:38:17.340165568Z",
     "start_time": "2023-08-22T20:38:17.283973833Z"
    }
   },
   "outputs": [],
   "source": [
    "import numpy as np"
   ]
  },
  {
   "cell_type": "code",
   "execution_count": 10,
   "outputs": [],
   "source": [
    "def quadratic_form(x_minus_y_T, matrix):\n",
    "    return np.sqrt(x_minus_y_T @ matrix @ x_minus_y_T.T)"
   ],
   "metadata": {
    "collapsed": false,
    "ExecuteTime": {
     "end_time": "2023-08-22T20:38:17.340691267Z",
     "start_time": "2023-08-22T20:38:17.324830244Z"
    }
   },
   "id": "1b2b571e6d1f0616"
  },
  {
   "cell_type": "code",
   "execution_count": 11,
   "outputs": [],
   "source": [
    "matrix = np.array(\n",
    "    [\n",
    "        [1, 0.135, 0.195, 0.137, 0.157],\n",
    "        [0.135, 1, 0.2, 0.309, 0.143],\n",
    "        [0.195, 0.2, 1, 0.157, 0.122],\n",
    "        [0.137, 0.309, 0.157, 1, 0.195],\n",
    "        [0.157, 0.143, 0.122, 0.195, 1]\n",
    "    ]\n",
    ")\n",
    "\n",
    "hq_minus_ht_T = np.array([0.5, 0.5, -0.5, -0.25, -0.25])"
   ],
   "metadata": {
    "collapsed": false,
    "ExecuteTime": {
     "end_time": "2023-08-22T20:38:17.341199935Z",
     "start_time": "2023-08-22T20:38:17.325138945Z"
    }
   },
   "id": "5f17e12d2f755422"
  },
  {
   "cell_type": "code",
   "execution_count": 12,
   "outputs": [
    {
     "name": "stdout",
     "output_type": "stream",
     "text": [
      "Quadratic form distance: 0.8078520904224981\n"
     ]
    }
   ],
   "source": [
    "dist = quadratic_form(hq_minus_ht_T, matrix)\n",
    "print(f\"Quadratic form distance: {dist}\")"
   ],
   "metadata": {
    "collapsed": false,
    "ExecuteTime": {
     "end_time": "2023-08-22T20:38:17.342027763Z",
     "start_time": "2023-08-22T20:38:17.325387112Z"
    }
   },
   "id": "bcbe48bd6f685a03"
  },
  {
   "cell_type": "code",
   "execution_count": 12,
   "outputs": [],
   "source": [],
   "metadata": {
    "collapsed": false,
    "ExecuteTime": {
     "end_time": "2023-08-22T20:38:17.342472760Z",
     "start_time": "2023-08-22T20:38:17.325679232Z"
    }
   },
   "id": "f85709a20a3b2c38"
  }
 ],
 "metadata": {
  "kernelspec": {
   "display_name": "Python 3",
   "language": "python",
   "name": "python3"
  },
  "language_info": {
   "codemirror_mode": {
    "name": "ipython",
    "version": 2
   },
   "file_extension": ".py",
   "mimetype": "text/x-python",
   "name": "python",
   "nbconvert_exporter": "python",
   "pygments_lexer": "ipython2",
   "version": "2.7.6"
  }
 },
 "nbformat": 4,
 "nbformat_minor": 5
}
