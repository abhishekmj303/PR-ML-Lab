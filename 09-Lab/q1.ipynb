{
 "cells": [
  {
   "cell_type": "code",
   "execution_count": 27,
   "id": "initial_id",
   "metadata": {
    "collapsed": true,
    "ExecuteTime": {
     "end_time": "2023-10-30T17:13:38.887367335Z",
     "start_time": "2023-10-30T17:13:38.847142084Z"
    }
   },
   "outputs": [],
   "source": [
    "import numpy as np\n",
    "import pandas as pd"
   ]
  },
  {
   "cell_type": "markdown",
   "source": [
    "# Linear Discriminant Analysis (LDA)"
   ],
   "metadata": {
    "collapsed": false
   },
   "id": "6917accf246ed5e"
  },
  {
   "cell_type": "code",
   "execution_count": 28,
   "outputs": [],
   "source": [
    "class LDA:\n",
    "    def __init__(self, n_components):\n",
    "        self.n_components = n_components\n",
    "        self.X_train = None\n",
    "        self.y_train = None\n",
    "        self.Sw = None\n",
    "        self.Sb = None\n",
    "        self.eig_vals = None\n",
    "        self.eig_vecs = None\n",
    "        self.final_matrix = None\n",
    "        \n",
    "    def fit(self, X, y):\n",
    "        self.X_train = X\n",
    "        self.y_train = y\n",
    "        self.Sw = self._within_class_scatter_matrix()\n",
    "        self.Sb = self._between_class_scatter_matrix()\n",
    "        self.eig_vals, self.eig_vecs = self._eigen()\n",
    "        \n",
    "    def transform(self, X):\n",
    "        return np.dot(X, self.eig_vecs.T)\n",
    "    \n",
    "    def _within_class_scatter_matrix(self):\n",
    "        Sw = np.zeros((self.X_train.shape[1], self.X_train.shape[1]))\n",
    "        for i in range(len(self.X_train)):\n",
    "            x = self.X_train[i].reshape(self.X_train.shape[1], 1)\n",
    "            m = self._mean(self.X_train[self.y_train == self.y_train[i]])\n",
    "            Sw += np.dot((x - m), (x - m).T)\n",
    "        return Sw\n",
    "    \n",
    "    def _between_class_scatter_matrix(self):\n",
    "        Sb = np.zeros((self.X_train.shape[1], self.X_train.shape[1]))\n",
    "        m = self._mean(self.X_train)\n",
    "        for i in range(len(self.X_train)):\n",
    "            x = self.X_train[i].reshape(self.X_train.shape[1], 1)\n",
    "            m_i = self._mean(self.X_train[self.y_train == self.y_train[i]])\n",
    "            Sb += len(self.X_train[self.y_train == self.y_train[i]]) * np.dot((m_i - m), (m_i - m).T)\n",
    "        return Sb\n",
    "    \n",
    "    def _eigen(self):\n",
    "        eig_vals, eig_vecs = np.linalg.eig(np.dot(np.linalg.inv(self.Sw), self.Sb))\n",
    "        eig_pairs = [(np.abs(eig_vals[i]), eig_vecs[:, i]) for i in range(len(eig_vals))]\n",
    "        eig_pairs = sorted(eig_pairs, key=lambda k: k[0], reverse=True)\n",
    "        eig_vals = np.array([eig_pairs[i][0] for i in range(self.n_components)])\n",
    "        eig_vecs = np.array([eig_pairs[i][1] for i in range(self.n_components)])    \n",
    "        return eig_vals, eig_vecs\n",
    "    \n",
    "    def _mean(self, X):\n",
    "        return np.mean(X, axis=0)"
   ],
   "metadata": {
    "collapsed": false,
    "ExecuteTime": {
     "end_time": "2023-10-30T17:13:38.975600756Z",
     "start_time": "2023-10-30T17:13:38.864299092Z"
    }
   },
   "id": "9d7437d57b4babe5"
  },
  {
   "cell_type": "markdown",
   "source": [
    "# K-Nearest Neighbors (KNN)"
   ],
   "metadata": {
    "collapsed": false
   },
   "id": "8a789b707d08d40a"
  },
  {
   "cell_type": "code",
   "execution_count": 29,
   "outputs": [],
   "source": [
    "class KNN:\n",
    "    def __init__(self, k=5):\n",
    "        self.k = k\n",
    "        self.X_train = None\n",
    "        self.y_train = None\n",
    "        self.distances = None\n",
    "    \n",
    "    def fit(self, X, y):\n",
    "        self.X_train = X\n",
    "        self.y_train = y\n",
    "    \n",
    "    def predict(self, X_test):\n",
    "        self.distances = self._euclidean_dist(self.X_train, X_test)\n",
    "        pred = []\n",
    "        for dist in self.distances:\n",
    "            k_nearest = dist.argsort()[:self.k]\n",
    "            k_nearest_labels = y_train.iloc[k_nearest]\n",
    "            pred.append(k_nearest_labels.value_counts().index[0])\n",
    "        return np.array(pred)\n",
    "    \n",
    "    def _euclidean_dist(self, X_train, X_test):\n",
    "        dist = np.zeros((len(X_test), len(X_train)))\n",
    "        for i in range(len(X_test)):\n",
    "            for j in range(len(X_train)):\n",
    "                dist[i, j] = np.sqrt(np.sum((X_test[i] - X_train[j])**2))\n",
    "        return dist"
   ],
   "metadata": {
    "collapsed": false,
    "ExecuteTime": {
     "end_time": "2023-10-30T17:13:39.013556614Z",
     "start_time": "2023-10-30T17:13:38.871279565Z"
    }
   },
   "id": "6ae9eec8f7e3536d"
  },
  {
   "cell_type": "code",
   "execution_count": 30,
   "outputs": [],
   "source": [
    "def covariance(X):\n",
    "    X = X - np.mean(X, axis=0)\n",
    "    return np.dot(X.T, X) / (len(X) - 1)"
   ],
   "metadata": {
    "collapsed": false,
    "ExecuteTime": {
     "end_time": "2023-10-30T17:13:39.014114657Z",
     "start_time": "2023-10-30T17:13:38.914570552Z"
    }
   },
   "id": "39f47aff14b740d9"
  },
  {
   "cell_type": "markdown",
   "source": [
    "# Split Train and Test Data"
   ],
   "metadata": {
    "collapsed": false
   },
   "id": "170bd9ab575f6a0a"
  },
  {
   "cell_type": "code",
   "execution_count": 31,
   "outputs": [],
   "source": [
    "def split_train_test(df, y_col):\n",
    "    train_data, test_data = pd.DataFrame(), pd.DataFrame()\n",
    "    for y in df[y_col].unique():\n",
    "        df_y = df[df[y_col] == y]\n",
    "        test_data = pd.concat([test_data, df_y[:10]], ignore_index=True)\n",
    "        train_data = pd.concat([train_data, df_y[10:]], ignore_index=True)\n",
    "    X_train, y_train = train_data.drop(y_col, axis=1), train_data[y_col]\n",
    "    X_test, y_test = test_data.drop(y_col, axis=1), test_data[y_col]\n",
    "    return X_train, y_train, X_test, y_test"
   ],
   "metadata": {
    "collapsed": false,
    "ExecuteTime": {
     "end_time": "2023-10-30T17:13:39.014644587Z",
     "start_time": "2023-10-30T17:13:38.914967722Z"
    }
   },
   "id": "7ec9fd22e13afff3"
  },
  {
   "cell_type": "markdown",
   "source": [
    "# Accuracy"
   ],
   "metadata": {
    "collapsed": false
   },
   "id": "95ff10ad93046e27"
  },
  {
   "cell_type": "code",
   "execution_count": 32,
   "outputs": [],
   "source": [
    "def accuracy(y_pred, y_test):\n",
    "    return np.sum(y_pred == y_test) / len(y_test)"
   ],
   "metadata": {
    "collapsed": false,
    "ExecuteTime": {
     "end_time": "2023-10-30T17:13:39.014811633Z",
     "start_time": "2023-10-30T17:13:38.915142542Z"
    }
   },
   "id": "1b52b955ea760a65"
  },
  {
   "cell_type": "markdown",
   "source": [
    "# Model"
   ],
   "metadata": {
    "collapsed": false
   },
   "id": "dbbd09718befa908"
  },
  {
   "cell_type": "code",
   "execution_count": 33,
   "outputs": [
    {
     "name": "stdout",
     "output_type": "stream",
     "text": [
      "  Gender         0         1         2         3         4         5  \\\n",
      "0   male -0.066420  0.151611  0.027740  0.052771 -0.066105 -0.041232   \n",
      "1   male -0.030614  0.049667  0.008084 -0.050324  0.007649 -0.063818   \n",
      "2   male -0.096178  0.061127  0.035326 -0.035388 -0.090728 -0.018634   \n",
      "3   male -0.103057  0.085044  0.078333 -0.035873 -0.028163  0.004924   \n",
      "4   male -0.125815  0.120046  0.023131 -0.042901  0.038215 -0.049677   \n",
      "\n",
      "          6         7         8  ...       118       119       120       121  \\\n",
      "0 -0.002637 -0.158467  0.130467  ...  0.025989 -0.001087  0.027260 -0.046754   \n",
      "1 -0.019530 -0.119905  0.186553  ...  0.044229 -0.023900 -0.028108  0.040618   \n",
      "2 -0.024315 -0.139786  0.052211  ...  0.111141  0.059436 -0.029222  0.042115   \n",
      "3  0.007829 -0.017016  0.114907  ...  0.100793 -0.002644 -0.023388  0.029497   \n",
      "4 -0.054258 -0.130758  0.173457  ...  0.090197  0.067527  0.039926  0.047469   \n",
      "\n",
      "        122       123       124       125       126       127  \n",
      "0 -0.118619 -0.163774 -0.000590 -0.076400  0.107497  0.001567  \n",
      "1 -0.146579 -0.141244  0.016162  0.017638  0.080610 -0.015930  \n",
      "2 -0.222173 -0.116908  0.093428  0.017391  0.057652  0.086116  \n",
      "3 -0.139830 -0.119243  0.005306 -0.015100  0.161575  0.062462  \n",
      "4 -0.056852 -0.076700  0.004966  0.028171  0.026041  0.084135  \n",
      "\n",
      "[5 rows x 129 columns]\n"
     ]
    }
   ],
   "source": [
    "gender_df = pd.read_csv(\"gender.csv\").drop(\"Unnamed: 0\", axis=1)\n",
    "gender_df.rename(columns={'Unnamed: 1': 'Gender'}, inplace=True)\n",
    "print(gender_df.head())"
   ],
   "metadata": {
    "collapsed": false,
    "ExecuteTime": {
     "end_time": "2023-10-30T17:13:39.015466098Z",
     "start_time": "2023-10-30T17:13:38.915356375Z"
    }
   },
   "id": "401c791d5abf9851"
  },
  {
   "cell_type": "code",
   "execution_count": 34,
   "outputs": [
    {
     "name": "stdout",
     "output_type": "stream",
     "text": [
      "X_train: (780, 128)\n",
      "X_test: (20, 128)\n"
     ]
    }
   ],
   "source": [
    "X_train, y_train, X_test, y_test = split_train_test(gender_df, \"Gender\")\n",
    "print(f\"X_train: {X_train.shape}\")\n",
    "print(f\"X_test: {X_test.shape}\")"
   ],
   "metadata": {
    "collapsed": false,
    "ExecuteTime": {
     "end_time": "2023-10-30T17:13:39.029350570Z",
     "start_time": "2023-10-30T17:13:38.945534646Z"
    }
   },
   "id": "920ab9c33f04e9d1"
  },
  {
   "cell_type": "code",
   "execution_count": 35,
   "outputs": [],
   "source": [
    "lda = LDA(n_components=1)\n",
    "lda.fit(X_train.values, y_train.values)"
   ],
   "metadata": {
    "collapsed": false,
    "ExecuteTime": {
     "end_time": "2023-10-30T17:13:39.424463690Z",
     "start_time": "2023-10-30T17:13:38.986319534Z"
    }
   },
   "id": "6b5a1654c1981e38"
  },
  {
   "cell_type": "code",
   "execution_count": 36,
   "outputs": [
    {
     "name": "stdout",
     "output_type": "stream",
     "text": [
      "Reduced X_train: (780, 1)\n",
      "Reduced X_test: (20, 1)\n"
     ]
    }
   ],
   "source": [
    "X_train_lda = lda.transform(X_train.values)\n",
    "X_test_lda = lda.transform(X_test.values)\n",
    "print(f\"Reduced X_train: {X_train_lda.shape}\")\n",
    "print(f\"Reduced X_test: {X_test_lda.shape}\")"
   ],
   "metadata": {
    "collapsed": false,
    "ExecuteTime": {
     "end_time": "2023-10-30T17:13:39.429386681Z",
     "start_time": "2023-10-30T17:13:39.425359390Z"
    }
   },
   "id": "de5a1fae2444a649"
  },
  {
   "cell_type": "code",
   "execution_count": 43,
   "outputs": [
    {
     "name": "stdout",
     "output_type": "stream",
     "text": [
      "[[10771.20271425 10771.20271425 10771.20271425 ... 10771.20271425\n",
      "  10771.20271425 10771.20271425]\n",
      " [10771.20271425 10771.20271425 10771.20271425 ... 10771.20271425\n",
      "  10771.20271425 10771.20271425]\n",
      " [10771.20271425 10771.20271425 10771.20271425 ... 10771.20271425\n",
      "  10771.20271425 10771.20271425]\n",
      " ...\n",
      " [10771.20271425 10771.20271425 10771.20271425 ... 10771.20271425\n",
      "  10771.20271425 10771.20271425]\n",
      " [10771.20271425 10771.20271425 10771.20271425 ... 10771.20271425\n",
      "  10771.20271425 10771.20271425]\n",
      " [10771.20271425 10771.20271425 10771.20271425 ... 10771.20271425\n",
      "  10771.20271425 10771.20271425]]\n"
     ]
    }
   ],
   "source": [
    "print(lda.Sb)"
   ],
   "metadata": {
    "collapsed": false,
    "ExecuteTime": {
     "end_time": "2023-10-30T17:50:44.521647548Z",
     "start_time": "2023-10-30T17:50:44.504505929Z"
    }
   },
   "id": "c21762cac7310595"
  },
  {
   "cell_type": "code",
   "execution_count": 37,
   "outputs": [],
   "source": [
    "knn = KNN(12)\n",
    "knn.fit(X_train_lda, y_train)"
   ],
   "metadata": {
    "collapsed": false,
    "ExecuteTime": {
     "end_time": "2023-10-30T17:13:39.442923176Z",
     "start_time": "2023-10-30T17:13:39.429918344Z"
    }
   },
   "id": "8df32ea388222767"
  },
  {
   "cell_type": "code",
   "execution_count": 38,
   "outputs": [
    {
     "name": "stdout",
     "output_type": "stream",
     "text": [
      "    Actual Predicted\n",
      "0     male      male\n",
      "1     male      male\n",
      "2     male    female\n",
      "3     male      male\n",
      "4     male    female\n",
      "5     male    female\n",
      "6     male      male\n",
      "7     male      male\n",
      "8     male      male\n",
      "9     male      male\n",
      "10  female    female\n",
      "11  female      male\n",
      "12  female    female\n",
      "13  female    female\n",
      "14  female      male\n",
      "15  female    female\n",
      "16  female    female\n",
      "17  female    female\n",
      "18  female    female\n",
      "19  female    female\n"
     ]
    },
    {
     "name": "stderr",
     "output_type": "stream",
     "text": [
      "/tmp/ipykernel_736383/2543780905.py:25: ComplexWarning: Casting complex values to real discards the imaginary part\n",
      "  dist[i, j] = np.sqrt(np.sum((X_test[i] - X_train[j])**2))\n"
     ]
    }
   ],
   "source": [
    "y_pred = knn.predict(X_test_lda)\n",
    "results = pd.DataFrame({\"Actual\": y_test, \"Predicted\": y_pred})\n",
    "print(results)"
   ],
   "metadata": {
    "collapsed": false,
    "ExecuteTime": {
     "end_time": "2023-10-30T17:13:39.582770259Z",
     "start_time": "2023-10-30T17:13:39.445171900Z"
    }
   },
   "id": "919d08f6944c7063"
  },
  {
   "cell_type": "code",
   "execution_count": 39,
   "outputs": [
    {
     "name": "stdout",
     "output_type": "stream",
     "text": [
      "Accuracy: 0.75\n"
     ]
    }
   ],
   "source": [
    "print(f\"Accuracy: {accuracy(y_pred, y_test)}\")"
   ],
   "metadata": {
    "collapsed": false,
    "ExecuteTime": {
     "end_time": "2023-10-30T17:13:39.645831436Z",
     "start_time": "2023-10-30T17:13:39.586184222Z"
    }
   },
   "id": "d5ac4ea532811b3e"
  }
 ],
 "metadata": {
  "kernelspec": {
   "display_name": "Python 3",
   "language": "python",
   "name": "python3"
  },
  "language_info": {
   "codemirror_mode": {
    "name": "ipython",
    "version": 2
   },
   "file_extension": ".py",
   "mimetype": "text/x-python",
   "name": "python",
   "nbconvert_exporter": "python",
   "pygments_lexer": "ipython2",
   "version": "2.7.6"
  }
 },
 "nbformat": 4,
 "nbformat_minor": 5
}
